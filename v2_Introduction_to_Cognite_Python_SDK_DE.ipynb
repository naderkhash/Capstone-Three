{
  "nbformat": 4,
  "nbformat_minor": 0,
  "metadata": {
    "colab": {
      "name": "v2 Introduction to Cognite Python SDK DE.ipynb",
      "provenance": [],
      "collapsed_sections": [],
      "include_colab_link": true
    },
    "kernelspec": {
      "name": "python3",
      "display_name": "Python 3"
    }
  },
  "cells": [
    {
      "cell_type": "markdown",
      "metadata": {
        "id": "view-in-github",
        "colab_type": "text"
      },
      "source": [
        "<a href=\"https://colab.research.google.com/github/naderkhash/Capstone-Three/blob/main/v2_Introduction_to_Cognite_Python_SDK_DE.ipynb\" target=\"_parent\"><img src=\"https://colab.research.google.com/assets/colab-badge.svg\" alt=\"Open In Colab\"/></a>"
      ]
    },
    {
      "cell_type": "markdown",
      "metadata": {
        "id": "rvTGHFbHUCqa"
      },
      "source": [
        "##Read the Cognite Learn content before running code examples."
      ]
    },
    {
      "cell_type": "markdown",
      "metadata": {
        "id": "3sS9baFNCsJ4"
      },
      "source": [
        "##1. Environment Set Up"
      ]
    },
    {
      "cell_type": "markdown",
      "metadata": {
        "id": "Qb8H5WYaDAgF"
      },
      "source": [
        "###Install the Cognite SDK package"
      ]
    },
    {
      "cell_type": "markdown",
      "metadata": {
        "id": "UnNKEbXHHH61"
      },
      "source": [
        "If you recieve the errors:\n",
        "\n",
        "`ERROR: datascience 0.10.6 has requirement folium==0.2.1, but you'll have folium 0.8.3 which is incompatible.`\n",
        "\n",
        "`ERROR: albumentations 0.1.12 has requirement imgaug<0.2.7,>=0.2.5, but you'll have imgaug 0.2.9 which is incompatible.`\n",
        "\n",
        "You can disregard them and do not need to click \"Restart Runtime\"."
      ]
    },
    {
      "cell_type": "code",
      "metadata": {
        "id": "QyOeQPCeDGMV"
      },
      "source": [
        "!pip install \"cognite-sdk>=1.1.10\"\n",
        "!pip install --upgrade numpy"
      ],
      "execution_count": null,
      "outputs": []
    },
    {
      "cell_type": "markdown",
      "metadata": {
        "id": "u8i-1mQDDKhc"
      },
      "source": [
        "###Import other required packages"
      ]
    },
    {
      "cell_type": "code",
      "metadata": {
        "id": "-BjwC7qlDQP1"
      },
      "source": [
        "%matplotlib inline\n",
        "\n",
        "import os\n",
        "from datetime import datetime, timedelta\n",
        "from datetime import datetime\n",
        "from getpass import getpass\n",
        "\n",
        "import numpy as np\n",
        "import pandas as pd\n",
        "import matplotlib.pyplot as plt\n",
        "from sklearn.ensemble import RandomForestRegressor\n",
        "from sklearn.linear_model import LinearRegression\n",
        "from sklearn.metrics import mean_squared_error\n",
        "from sklearn.metrics import r2_score\n",
        "\n",
        "from cognite.client import CogniteClient"
      ],
      "execution_count": null,
      "outputs": []
    },
    {
      "cell_type": "markdown",
      "metadata": {
        "id": "BFI6c51zEn_y"
      },
      "source": [
        "### Connect to Cognite Data Fusion\n",
        "This client object is how all queries will be sent to the Cognite API to retrieve data.\n",
        "\n",
        "When prompted for your API key, use the stored key generated previously in the course."
      ]
    },
    {
      "cell_type": "code",
      "metadata": {
        "id": "j_PcTGjREqN0"
      },
      "source": [
        "client = CogniteClient(api_key=getpass(\"Open Industrial Data API-KEY: \"),\n",
        "                       project=\"publicdata\", client_name=\"OID_example\")"
      ],
      "execution_count": null,
      "outputs": []
    },
    {
      "cell_type": "markdown",
      "metadata": {
        "id": "Rg_C7QvUl1Mc"
      },
      "source": [
        "##2. Retrieving Lists of Assets"
      ]
    },
    {
      "cell_type": "markdown",
      "metadata": {
        "id": "Ignb8US7l-Qv"
      },
      "source": [
        "###List assets\n",
        "The `client.assets.list(limit=20)` function retrieves the first `limit` assets, and returns it as an `AssetList`."
      ]
    },
    {
      "cell_type": "code",
      "metadata": {
        "id": "PBd_bxusmJoD"
      },
      "source": [
        "client.assets.list(limit=20)"
      ],
      "execution_count": null,
      "outputs": []
    },
    {
      "cell_type": "markdown",
      "metadata": {
        "id": "CBQDOD_8982K"
      },
      "source": [
        "##Search Assets##\n",
        "The `client.assets.search()` function allows you to search by a specific property of the asset, including its name, parent, etc."
      ]
    },
    {
      "cell_type": "markdown",
      "metadata": {
        "id": "iGzlTbUJmB8Z"
      },
      "source": [
        "###Fuzzy Search by name\n",
        "The search by name includes results that are similar in name, but not an exact match."
      ]
    },
    {
      "cell_type": "code",
      "metadata": {
        "id": "JXZ4_aIhmLjd"
      },
      "source": [
        "asset_name = \"23-HA-9103\"\n",
        "assets = client.assets.search(name=asset_name)\n",
        "assets[:5]"
      ],
      "execution_count": null,
      "outputs": []
    },
    {
      "cell_type": "markdown",
      "metadata": {
        "id": "TP1FgfPVmDMk"
      },
      "source": [
        "###Specific Search\n",
        "The `client.assets.retrieve()` interface provides the same information for one specific asset based on the provided ID or external ID."
      ]
    },
    {
      "cell_type": "code",
      "metadata": {
        "id": "EVpjB6N9mN7U"
      },
      "source": [
        "asset_id = [a.id for a in assets if a.name==asset_name][0]\n",
        "client.assets.retrieve(id=asset_id)"
      ],
      "execution_count": null,
      "outputs": []
    },
    {
      "cell_type": "markdown",
      "metadata": {
        "id": "mWtFaG-bSdCU"
      },
      "source": [
        "##3. Events\n"
      ]
    },
    {
      "cell_type": "markdown",
      "metadata": {
        "id": "IWt2UcejSkl6"
      },
      "source": [
        "Like we did for assets, we can list events. We will not go more in depth on events here, but you can also filter and search for events. "
      ]
    },
    {
      "cell_type": "code",
      "metadata": {
        "id": "4HepEaBeScnc"
      },
      "source": [
        "client.events.list(limit=7)"
      ],
      "execution_count": null,
      "outputs": []
    },
    {
      "cell_type": "markdown",
      "metadata": {
        "id": "kOi5l9ArnH1c"
      },
      "source": [
        "##4. Asset Hierarchy and Relationships"
      ]
    },
    {
      "cell_type": "markdown",
      "metadata": {
        "id": "yQbT4KIFnLBq"
      },
      "source": [
        "We will generate a list of all children of the main asset of interest. The main asset of interest is listed first, then the children are listed underneath in following rows."
      ]
    },
    {
      "cell_type": "code",
      "metadata": {
        "id": "3aOeBcKYnRLE"
      },
      "source": [
        "subtree = client.assets.retrieve_subtree(id=asset_id)\n",
        "subtree[:5]"
      ],
      "execution_count": null,
      "outputs": []
    },
    {
      "cell_type": "markdown",
      "metadata": {
        "id": "LIyYdejlnUtT"
      },
      "source": [
        "##5. Collecting Time Series Data"
      ]
    },
    {
      "cell_type": "markdown",
      "metadata": {
        "id": "Qt6Dcdn1rRS4"
      },
      "source": [
        "###Compile a list of time series objects under the asset\n",
        "For each of the assets in the subtree we retrieved, we get the associated time series objects and merge them into a single `TimeSeriesList` object."
      ]
    },
    {
      "cell_type": "code",
      "metadata": {
        "id": "tOx8h90ArYY2"
      },
      "source": [
        "all_timeseries = subtree.time_series()\n",
        "print(len(all_timeseries),'time series in subtree')\n",
        "all_timeseries[:5]"
      ],
      "execution_count": null,
      "outputs": []
    },
    {
      "cell_type": "markdown",
      "metadata": {
        "id": "qllkrh6Dtp7R"
      },
      "source": [
        "If you are curious about which asset a time series is attached to, you can retrieve more information of the asset by using the retrieve function. Note that the property is called `asset_id` following typical python style, while `assetId` is used in the underlying API objects and tabular outputs."
      ]
    },
    {
      "cell_type": "code",
      "metadata": {
        "id": "0afqCmxDtsAf"
      },
      "source": [
        "client.assets.retrieve(id=all_timeseries[0].asset_id)"
      ],
      "execution_count": null,
      "outputs": []
    },
    {
      "cell_type": "markdown",
      "metadata": {
        "id": "SdRhnDi-sN_9"
      },
      "source": [
        "###View datapoints for specific time series\n",
        "The identifier to retrieve Datapoints is the externalId column from the output above."
      ]
    },
    {
      "cell_type": "code",
      "metadata": {
        "id": "1j1bQ9Drtpxz"
      },
      "source": [
        "client.datapoints.retrieve(external_id=\"pi:160184\", start=\"10d-ago\", end=\"now\")[:10]"
      ],
      "execution_count": null,
      "outputs": []
    },
    {
      "cell_type": "markdown",
      "metadata": {
        "id": "LnWqcSkLt5hq"
      },
      "source": [
        "##6. Use Cases of CDF Data"
      ]
    },
    {
      "cell_type": "markdown",
      "metadata": {
        "id": "dwpidXxYKoAl"
      },
      "source": [
        "###Collect datapoints from CDF\n",
        "The time series names are defined in the in_ts_exids and out_ts_exid lists below."
      ]
    },
    {
      "cell_type": "code",
      "metadata": {
        "id": "h9yTIu44uDEX"
      },
      "source": [
        "in_ts_exids = [\"pi:160182\", \"pi:160697\", \"pi:160882\"]\n",
        "out_ts_exid = \"pi:160696\""
      ],
      "execution_count": null,
      "outputs": []
    },
    {
      "cell_type": "markdown",
      "metadata": {
        "id": "TpqB2BA8Kw_T"
      },
      "source": [
        "###Retrieve Data Points from CDF\n",
        "Most object types in the Python SDK have a `to_pandas` method which converts the result to a pandas dataframe. For retrieving aggregates such as the average over each time period, you can use `client.datapoints.retrieve_dataframe` to get a pandas dataframe directly. "
      ]
    },
    {
      "cell_type": "code",
      "metadata": {
        "id": "IH4rB1zbuOiZ"
      },
      "source": [
        "ts_exids = in_ts_exids + [out_ts_exid]\n",
        "\n",
        "train_start_date = datetime(2018, 8, 1)\n",
        "\n",
        "train_end_date = train_start_date + timedelta(days=30)\n",
        "\n",
        "datapoints_df = client.datapoints.retrieve_dataframe(external_id=ts_exids,\n",
        "                                                     aggregates=['average'],\n",
        "                                                     granularity='1m',\n",
        "                                                     start=train_start_date,\n",
        "                                                     end=train_end_date,\n",
        "                                                     include_aggregate_name=False\n",
        "                                                     )\n",
        "datapoints_df.fillna(method=\"ffill\", inplace=True)\n",
        "datapoints_df.head()"
      ],
      "execution_count": null,
      "outputs": []
    },
    {
      "cell_type": "markdown",
      "metadata": {
        "id": "5OhckFiVAUfO"
      },
      "source": [
        "There are also shortcuts for filling the dataframe when using interpolation or count aggregates. Note that without the `include_aggregate_name=False` option, the aggregate name is appended to the external id to form a unique column name."
      ]
    },
    {
      "cell_type": "code",
      "metadata": {
        "id": "bSBMHkzmuaSn"
      },
      "source": [
        "datapoints_df_interp = client.datapoints.retrieve_dataframe(external_id=ts_exids[0:2],\n",
        "                                                           aggregates=['interpolation','count'],\n",
        "                                                           granularity='1h',\n",
        "                                                           start=train_start_date,\n",
        "                                                           end=train_end_date,\n",
        "                                                           complete=\"fill\"\n",
        "                                                          )\n",
        "datapoints_df_interp.head()"
      ],
      "execution_count": null,
      "outputs": []
    },
    {
      "cell_type": "markdown",
      "metadata": {
        "id": "xPO2NqAjGKIs"
      },
      "source": [
        "###Visualize the Time Series Data\n",
        "The bottom right plot is the output time series, while the other 3 are the inputs used to create an estimate for the output."
      ]
    },
    {
      "cell_type": "code",
      "metadata": {
        "id": "c9CHHKVCuuUQ"
      },
      "source": [
        "cols = datapoints_df.columns\n",
        "\n",
        "fig, axes = plt.subplots(nrows=2, ncols=2, figsize=(10,10))\n",
        "for i, col in enumerate(cols):\n",
        "    datapoints_df.loc[:, [col]].plot(ax=axes.ravel()[i])"
      ],
      "execution_count": null,
      "outputs": []
    },
    {
      "cell_type": "code",
      "metadata": {
        "id": "V8pfUalWxHdn"
      },
      "source": [
        ""
      ],
      "execution_count": null,
      "outputs": []
    },
    {
      "cell_type": "code",
      "metadata": {
        "id": "LvI6i76IeXEZ"
      },
      "source": [
        ""
      ],
      "execution_count": null,
      "outputs": []
    },
    {
      "cell_type": "code",
      "metadata": {
        "id": "cMViGNULeW8Z"
      },
      "source": [
        ""
      ],
      "execution_count": null,
      "outputs": []
    },
    {
      "cell_type": "code",
      "metadata": {
        "id": "kuBm68o1eWuz"
      },
      "source": [
        ""
      ],
      "execution_count": null,
      "outputs": []
    },
    {
      "cell_type": "code",
      "metadata": {
        "id": "8xsWmSEveWnM"
      },
      "source": [
        ""
      ],
      "execution_count": null,
      "outputs": []
    },
    {
      "cell_type": "code",
      "metadata": {
        "id": "YnKNBRFmeWdY"
      },
      "source": [
        ""
      ],
      "execution_count": null,
      "outputs": []
    }
  ]
}