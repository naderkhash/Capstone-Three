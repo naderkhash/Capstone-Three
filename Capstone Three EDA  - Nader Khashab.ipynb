{
 "cells": [
  {
   "cell_type": "code",
   "execution_count": 1,
   "metadata": {},
   "outputs": [],
   "source": [
    "import pandas as pd\n",
    "from pandas import DataFrame\n",
    "import seaborn as sns\n",
    "import matplotlib.pyplot as plt\n",
    "#from pandas_profiling import ProfileReport\n",
    "from sklearn.cluster import KMeans\n",
    "import numpy as np\n",
    "import sklearn\n",
    "from sklearn.model_selection import train_test_split\n",
    "from sklearn import preprocessing\n",
    "#import tensorflow as tf\n",
    "#from tensorflow import keras\n",
    "import traceback\n",
    "import re\n",
    "from pandas import Series\n",
    "import numpy as np"
   ]
  },
  {
   "cell_type": "code",
   "execution_count": 2,
   "metadata": {},
   "outputs": [
    {
     "data": {
      "text/html": [
       "<div>\n",
       "<style scoped>\n",
       "    .dataframe tbody tr th:only-of-type {\n",
       "        vertical-align: middle;\n",
       "    }\n",
       "\n",
       "    .dataframe tbody tr th {\n",
       "        vertical-align: top;\n",
       "    }\n",
       "\n",
       "    .dataframe thead th {\n",
       "        text-align: right;\n",
       "    }\n",
       "</style>\n",
       "<table border=\"1\" class=\"dataframe\">\n",
       "  <thead>\n",
       "    <tr style=\"text-align: right;\">\n",
       "      <th></th>\n",
       "      <th>Date</th>\n",
       "      <th>Time</th>\n",
       "      <th>Latitude</th>\n",
       "      <th>Longitude</th>\n",
       "    </tr>\n",
       "  </thead>\n",
       "  <tbody>\n",
       "    <tr>\n",
       "      <th>0</th>\n",
       "      <td>2011-08-29</td>\n",
       "      <td>6:56:58 PM</td>\n",
       "      <td>42.391623</td>\n",
       "      <td>-88.089163</td>\n",
       "    </tr>\n",
       "    <tr>\n",
       "      <th>1</th>\n",
       "      <td>2011-08-29</td>\n",
       "      <td>6:57:08 PM</td>\n",
       "      <td>42.391348</td>\n",
       "      <td>-88.089163</td>\n",
       "    </tr>\n",
       "    <tr>\n",
       "      <th>2</th>\n",
       "      <td>2011-08-29</td>\n",
       "      <td>6:57:18 PM</td>\n",
       "      <td>42.391022</td>\n",
       "      <td>-88.089157</td>\n",
       "    </tr>\n",
       "    <tr>\n",
       "      <th>3</th>\n",
       "      <td>2011-08-29</td>\n",
       "      <td>6:57:28 PM</td>\n",
       "      <td>42.390637</td>\n",
       "      <td>-88.089158</td>\n",
       "    </tr>\n",
       "    <tr>\n",
       "      <th>4</th>\n",
       "      <td>2011-08-29</td>\n",
       "      <td>6:57:38 PM</td>\n",
       "      <td>42.390410</td>\n",
       "      <td>-88.088858</td>\n",
       "    </tr>\n",
       "    <tr>\n",
       "      <th>...</th>\n",
       "      <td>...</td>\n",
       "      <td>...</td>\n",
       "      <td>...</td>\n",
       "      <td>...</td>\n",
       "    </tr>\n",
       "    <tr>\n",
       "      <th>14830</th>\n",
       "      <td>2013-09-05</td>\n",
       "      <td>8:34:11 PM</td>\n",
       "      <td>42.006587</td>\n",
       "      <td>-87.812355</td>\n",
       "    </tr>\n",
       "    <tr>\n",
       "      <th>14831</th>\n",
       "      <td>2013-09-05</td>\n",
       "      <td>8:35:01 PM</td>\n",
       "      <td>42.006192</td>\n",
       "      <td>-87.816015</td>\n",
       "    </tr>\n",
       "    <tr>\n",
       "      <th>14832</th>\n",
       "      <td>2013-09-05</td>\n",
       "      <td>8:35:21 PM</td>\n",
       "      <td>42.006022</td>\n",
       "      <td>-87.817392</td>\n",
       "    </tr>\n",
       "    <tr>\n",
       "      <th>14833</th>\n",
       "      <td>2013-09-05</td>\n",
       "      <td>8:35:31 PM</td>\n",
       "      <td>42.005453</td>\n",
       "      <td>-87.817423</td>\n",
       "    </tr>\n",
       "    <tr>\n",
       "      <th>14834</th>\n",
       "      <td>2013-09-05</td>\n",
       "      <td>8:35:41 PM</td>\n",
       "      <td>42.004805</td>\n",
       "      <td>-87.817460</td>\n",
       "    </tr>\n",
       "  </tbody>\n",
       "</table>\n",
       "<p>14835 rows × 4 columns</p>\n",
       "</div>"
      ],
      "text/plain": [
       "             Date        Time   Latitude  Longitude\n",
       "0      2011-08-29  6:56:58 PM  42.391623 -88.089163\n",
       "1      2011-08-29  6:57:08 PM  42.391348 -88.089163\n",
       "2      2011-08-29  6:57:18 PM  42.391022 -88.089157\n",
       "3      2011-08-29  6:57:28 PM  42.390637 -88.089158\n",
       "4      2011-08-29  6:57:38 PM  42.390410 -88.088858\n",
       "...           ...         ...        ...        ...\n",
       "14830  2013-09-05  8:34:11 PM  42.006587 -87.812355\n",
       "14831  2013-09-05  8:35:01 PM  42.006192 -87.816015\n",
       "14832  2013-09-05  8:35:21 PM  42.006022 -87.817392\n",
       "14833  2013-09-05  8:35:31 PM  42.005453 -87.817423\n",
       "14834  2013-09-05  8:35:41 PM  42.004805 -87.817460\n",
       "\n",
       "[14835 rows x 4 columns]"
      ]
     },
     "execution_count": 2,
     "metadata": {},
     "output_type": "execute_result"
    }
   ],
   "source": [
    "spray ='C:\\\\Users\\\\Nader\\\\Desktop\\\\Final Capstone\\\\West Nile\\\\spray.csv\\\\spray.csv'\n",
    "spray = pd.read_csv(spray)\n",
    "spray"
   ]
  },
  {
   "cell_type": "code",
   "execution_count": 3,
   "metadata": {},
   "outputs": [
    {
     "data": {
      "text/html": [
       "<div>\n",
       "<style scoped>\n",
       "    .dataframe tbody tr th:only-of-type {\n",
       "        vertical-align: middle;\n",
       "    }\n",
       "\n",
       "    .dataframe tbody tr th {\n",
       "        vertical-align: top;\n",
       "    }\n",
       "\n",
       "    .dataframe thead th {\n",
       "        text-align: right;\n",
       "    }\n",
       "</style>\n",
       "<table border=\"1\" class=\"dataframe\">\n",
       "  <thead>\n",
       "    <tr style=\"text-align: right;\">\n",
       "      <th></th>\n",
       "      <th>Station</th>\n",
       "      <th>Date</th>\n",
       "      <th>Tmax</th>\n",
       "      <th>Tmin</th>\n",
       "      <th>Tavg</th>\n",
       "      <th>Depart</th>\n",
       "      <th>DewPoint</th>\n",
       "      <th>WetBulb</th>\n",
       "      <th>Heat</th>\n",
       "      <th>Cool</th>\n",
       "      <th>...</th>\n",
       "      <th>CodeSum</th>\n",
       "      <th>Depth</th>\n",
       "      <th>Water1</th>\n",
       "      <th>SnowFall</th>\n",
       "      <th>PrecipTotal</th>\n",
       "      <th>StnPressure</th>\n",
       "      <th>SeaLevel</th>\n",
       "      <th>ResultSpeed</th>\n",
       "      <th>ResultDir</th>\n",
       "      <th>AvgSpeed</th>\n",
       "    </tr>\n",
       "  </thead>\n",
       "  <tbody>\n",
       "    <tr>\n",
       "      <th>0</th>\n",
       "      <td>1</td>\n",
       "      <td>2007-05-01</td>\n",
       "      <td>83</td>\n",
       "      <td>50</td>\n",
       "      <td>67</td>\n",
       "      <td>14</td>\n",
       "      <td>51</td>\n",
       "      <td>56</td>\n",
       "      <td>0</td>\n",
       "      <td>2</td>\n",
       "      <td>...</td>\n",
       "      <td></td>\n",
       "      <td>0</td>\n",
       "      <td>M</td>\n",
       "      <td>0.0</td>\n",
       "      <td>0.00</td>\n",
       "      <td>29.10</td>\n",
       "      <td>29.82</td>\n",
       "      <td>1.7</td>\n",
       "      <td>27</td>\n",
       "      <td>9.2</td>\n",
       "    </tr>\n",
       "    <tr>\n",
       "      <th>1</th>\n",
       "      <td>2</td>\n",
       "      <td>2007-05-01</td>\n",
       "      <td>84</td>\n",
       "      <td>52</td>\n",
       "      <td>68</td>\n",
       "      <td>M</td>\n",
       "      <td>51</td>\n",
       "      <td>57</td>\n",
       "      <td>0</td>\n",
       "      <td>3</td>\n",
       "      <td>...</td>\n",
       "      <td></td>\n",
       "      <td>M</td>\n",
       "      <td>M</td>\n",
       "      <td>M</td>\n",
       "      <td>0.00</td>\n",
       "      <td>29.18</td>\n",
       "      <td>29.82</td>\n",
       "      <td>2.7</td>\n",
       "      <td>25</td>\n",
       "      <td>9.6</td>\n",
       "    </tr>\n",
       "    <tr>\n",
       "      <th>2</th>\n",
       "      <td>1</td>\n",
       "      <td>2007-05-02</td>\n",
       "      <td>59</td>\n",
       "      <td>42</td>\n",
       "      <td>51</td>\n",
       "      <td>-3</td>\n",
       "      <td>42</td>\n",
       "      <td>47</td>\n",
       "      <td>14</td>\n",
       "      <td>0</td>\n",
       "      <td>...</td>\n",
       "      <td>BR</td>\n",
       "      <td>0</td>\n",
       "      <td>M</td>\n",
       "      <td>0.0</td>\n",
       "      <td>0.00</td>\n",
       "      <td>29.38</td>\n",
       "      <td>30.09</td>\n",
       "      <td>13.0</td>\n",
       "      <td>4</td>\n",
       "      <td>13.4</td>\n",
       "    </tr>\n",
       "    <tr>\n",
       "      <th>3</th>\n",
       "      <td>2</td>\n",
       "      <td>2007-05-02</td>\n",
       "      <td>60</td>\n",
       "      <td>43</td>\n",
       "      <td>52</td>\n",
       "      <td>M</td>\n",
       "      <td>42</td>\n",
       "      <td>47</td>\n",
       "      <td>13</td>\n",
       "      <td>0</td>\n",
       "      <td>...</td>\n",
       "      <td>BR HZ</td>\n",
       "      <td>M</td>\n",
       "      <td>M</td>\n",
       "      <td>M</td>\n",
       "      <td>0.00</td>\n",
       "      <td>29.44</td>\n",
       "      <td>30.08</td>\n",
       "      <td>13.3</td>\n",
       "      <td>2</td>\n",
       "      <td>13.4</td>\n",
       "    </tr>\n",
       "    <tr>\n",
       "      <th>4</th>\n",
       "      <td>1</td>\n",
       "      <td>2007-05-03</td>\n",
       "      <td>66</td>\n",
       "      <td>46</td>\n",
       "      <td>56</td>\n",
       "      <td>2</td>\n",
       "      <td>40</td>\n",
       "      <td>48</td>\n",
       "      <td>9</td>\n",
       "      <td>0</td>\n",
       "      <td>...</td>\n",
       "      <td></td>\n",
       "      <td>0</td>\n",
       "      <td>M</td>\n",
       "      <td>0.0</td>\n",
       "      <td>0.00</td>\n",
       "      <td>29.39</td>\n",
       "      <td>30.12</td>\n",
       "      <td>11.7</td>\n",
       "      <td>7</td>\n",
       "      <td>11.9</td>\n",
       "    </tr>\n",
       "    <tr>\n",
       "      <th>...</th>\n",
       "      <td>...</td>\n",
       "      <td>...</td>\n",
       "      <td>...</td>\n",
       "      <td>...</td>\n",
       "      <td>...</td>\n",
       "      <td>...</td>\n",
       "      <td>...</td>\n",
       "      <td>...</td>\n",
       "      <td>...</td>\n",
       "      <td>...</td>\n",
       "      <td>...</td>\n",
       "      <td>...</td>\n",
       "      <td>...</td>\n",
       "      <td>...</td>\n",
       "      <td>...</td>\n",
       "      <td>...</td>\n",
       "      <td>...</td>\n",
       "      <td>...</td>\n",
       "      <td>...</td>\n",
       "      <td>...</td>\n",
       "      <td>...</td>\n",
       "    </tr>\n",
       "    <tr>\n",
       "      <th>2939</th>\n",
       "      <td>2</td>\n",
       "      <td>2014-10-29</td>\n",
       "      <td>49</td>\n",
       "      <td>40</td>\n",
       "      <td>45</td>\n",
       "      <td>M</td>\n",
       "      <td>34</td>\n",
       "      <td>42</td>\n",
       "      <td>20</td>\n",
       "      <td>0</td>\n",
       "      <td>...</td>\n",
       "      <td></td>\n",
       "      <td>M</td>\n",
       "      <td>M</td>\n",
       "      <td>M</td>\n",
       "      <td>0.00</td>\n",
       "      <td>29.42</td>\n",
       "      <td>30.07</td>\n",
       "      <td>8.5</td>\n",
       "      <td>29</td>\n",
       "      <td>9.0</td>\n",
       "    </tr>\n",
       "    <tr>\n",
       "      <th>2940</th>\n",
       "      <td>1</td>\n",
       "      <td>2014-10-30</td>\n",
       "      <td>51</td>\n",
       "      <td>32</td>\n",
       "      <td>42</td>\n",
       "      <td>-4</td>\n",
       "      <td>34</td>\n",
       "      <td>40</td>\n",
       "      <td>23</td>\n",
       "      <td>0</td>\n",
       "      <td>...</td>\n",
       "      <td></td>\n",
       "      <td>0</td>\n",
       "      <td>M</td>\n",
       "      <td>0.0</td>\n",
       "      <td>0.00</td>\n",
       "      <td>29.34</td>\n",
       "      <td>30.09</td>\n",
       "      <td>5.1</td>\n",
       "      <td>24</td>\n",
       "      <td>5.5</td>\n",
       "    </tr>\n",
       "    <tr>\n",
       "      <th>2941</th>\n",
       "      <td>2</td>\n",
       "      <td>2014-10-30</td>\n",
       "      <td>53</td>\n",
       "      <td>37</td>\n",
       "      <td>45</td>\n",
       "      <td>M</td>\n",
       "      <td>35</td>\n",
       "      <td>42</td>\n",
       "      <td>20</td>\n",
       "      <td>0</td>\n",
       "      <td>...</td>\n",
       "      <td>RA</td>\n",
       "      <td>M</td>\n",
       "      <td>M</td>\n",
       "      <td>M</td>\n",
       "      <td>T</td>\n",
       "      <td>29.41</td>\n",
       "      <td>30.10</td>\n",
       "      <td>5.9</td>\n",
       "      <td>23</td>\n",
       "      <td>6.5</td>\n",
       "    </tr>\n",
       "    <tr>\n",
       "      <th>2942</th>\n",
       "      <td>1</td>\n",
       "      <td>2014-10-31</td>\n",
       "      <td>47</td>\n",
       "      <td>33</td>\n",
       "      <td>40</td>\n",
       "      <td>-6</td>\n",
       "      <td>25</td>\n",
       "      <td>33</td>\n",
       "      <td>25</td>\n",
       "      <td>0</td>\n",
       "      <td>...</td>\n",
       "      <td>RA SN</td>\n",
       "      <td>0</td>\n",
       "      <td>M</td>\n",
       "      <td>0.1</td>\n",
       "      <td>0.03</td>\n",
       "      <td>29.49</td>\n",
       "      <td>30.20</td>\n",
       "      <td>22.6</td>\n",
       "      <td>34</td>\n",
       "      <td>22.9</td>\n",
       "    </tr>\n",
       "    <tr>\n",
       "      <th>2943</th>\n",
       "      <td>2</td>\n",
       "      <td>2014-10-31</td>\n",
       "      <td>49</td>\n",
       "      <td>34</td>\n",
       "      <td>42</td>\n",
       "      <td>M</td>\n",
       "      <td>29</td>\n",
       "      <td>36</td>\n",
       "      <td>23</td>\n",
       "      <td>0</td>\n",
       "      <td>...</td>\n",
       "      <td>RA SN BR</td>\n",
       "      <td>M</td>\n",
       "      <td>M</td>\n",
       "      <td>M</td>\n",
       "      <td>0.04</td>\n",
       "      <td>29.54</td>\n",
       "      <td>30.20</td>\n",
       "      <td>21.7</td>\n",
       "      <td>34</td>\n",
       "      <td>22.6</td>\n",
       "    </tr>\n",
       "  </tbody>\n",
       "</table>\n",
       "<p>2944 rows × 22 columns</p>\n",
       "</div>"
      ],
      "text/plain": [
       "      Station        Date  Tmax  Tmin Tavg Depart  DewPoint WetBulb Heat Cool  \\\n",
       "0           1  2007-05-01    83    50   67     14        51      56    0    2   \n",
       "1           2  2007-05-01    84    52   68      M        51      57    0    3   \n",
       "2           1  2007-05-02    59    42   51     -3        42      47   14    0   \n",
       "3           2  2007-05-02    60    43   52      M        42      47   13    0   \n",
       "4           1  2007-05-03    66    46   56      2        40      48    9    0   \n",
       "...       ...         ...   ...   ...  ...    ...       ...     ...  ...  ...   \n",
       "2939        2  2014-10-29    49    40   45      M        34      42   20    0   \n",
       "2940        1  2014-10-30    51    32   42     -4        34      40   23    0   \n",
       "2941        2  2014-10-30    53    37   45      M        35      42   20    0   \n",
       "2942        1  2014-10-31    47    33   40     -6        25      33   25    0   \n",
       "2943        2  2014-10-31    49    34   42      M        29      36   23    0   \n",
       "\n",
       "      ...   CodeSum Depth Water1 SnowFall PrecipTotal StnPressure SeaLevel  \\\n",
       "0     ...               0      M      0.0        0.00       29.10    29.82   \n",
       "1     ...               M      M        M        0.00       29.18    29.82   \n",
       "2     ...        BR     0      M      0.0        0.00       29.38    30.09   \n",
       "3     ...     BR HZ     M      M        M        0.00       29.44    30.08   \n",
       "4     ...               0      M      0.0        0.00       29.39    30.12   \n",
       "...   ...       ...   ...    ...      ...         ...         ...      ...   \n",
       "2939  ...               M      M        M        0.00       29.42    30.07   \n",
       "2940  ...               0      M      0.0        0.00       29.34    30.09   \n",
       "2941  ...        RA     M      M        M           T       29.41    30.10   \n",
       "2942  ...     RA SN     0      M      0.1        0.03       29.49    30.20   \n",
       "2943  ...  RA SN BR     M      M        M        0.04       29.54    30.20   \n",
       "\n",
       "     ResultSpeed ResultDir  AvgSpeed  \n",
       "0            1.7        27       9.2  \n",
       "1            2.7        25       9.6  \n",
       "2           13.0         4      13.4  \n",
       "3           13.3         2      13.4  \n",
       "4           11.7         7      11.9  \n",
       "...          ...       ...       ...  \n",
       "2939         8.5        29       9.0  \n",
       "2940         5.1        24       5.5  \n",
       "2941         5.9        23       6.5  \n",
       "2942        22.6        34      22.9  \n",
       "2943        21.7        34      22.6  \n",
       "\n",
       "[2944 rows x 22 columns]"
      ]
     },
     "execution_count": 3,
     "metadata": {},
     "output_type": "execute_result"
    }
   ],
   "source": [
    "weather = 'C:\\\\Users\\\\Nader\\\\Desktop\\\\Final Capstone\\\\West Nile\\\\weather.csv\\\\weather.csv'\n",
    "weather = pd.read_csv(weather)\n",
    "weather"
   ]
  },
  {
   "cell_type": "code",
   "execution_count": 4,
   "metadata": {},
   "outputs": [
    {
     "data": {
      "text/html": [
       "<div>\n",
       "<style scoped>\n",
       "    .dataframe tbody tr th:only-of-type {\n",
       "        vertical-align: middle;\n",
       "    }\n",
       "\n",
       "    .dataframe tbody tr th {\n",
       "        vertical-align: top;\n",
       "    }\n",
       "\n",
       "    .dataframe thead th {\n",
       "        text-align: right;\n",
       "    }\n",
       "</style>\n",
       "<table border=\"1\" class=\"dataframe\">\n",
       "  <thead>\n",
       "    <tr style=\"text-align: right;\">\n",
       "      <th></th>\n",
       "      <th>Id</th>\n",
       "      <th>WnvPresent</th>\n",
       "    </tr>\n",
       "  </thead>\n",
       "  <tbody>\n",
       "    <tr>\n",
       "      <th>0</th>\n",
       "      <td>1</td>\n",
       "      <td>0</td>\n",
       "    </tr>\n",
       "    <tr>\n",
       "      <th>1</th>\n",
       "      <td>2</td>\n",
       "      <td>0</td>\n",
       "    </tr>\n",
       "    <tr>\n",
       "      <th>2</th>\n",
       "      <td>3</td>\n",
       "      <td>0</td>\n",
       "    </tr>\n",
       "    <tr>\n",
       "      <th>3</th>\n",
       "      <td>4</td>\n",
       "      <td>0</td>\n",
       "    </tr>\n",
       "    <tr>\n",
       "      <th>4</th>\n",
       "      <td>5</td>\n",
       "      <td>0</td>\n",
       "    </tr>\n",
       "    <tr>\n",
       "      <th>...</th>\n",
       "      <td>...</td>\n",
       "      <td>...</td>\n",
       "    </tr>\n",
       "    <tr>\n",
       "      <th>116288</th>\n",
       "      <td>116289</td>\n",
       "      <td>0</td>\n",
       "    </tr>\n",
       "    <tr>\n",
       "      <th>116289</th>\n",
       "      <td>116290</td>\n",
       "      <td>0</td>\n",
       "    </tr>\n",
       "    <tr>\n",
       "      <th>116290</th>\n",
       "      <td>116291</td>\n",
       "      <td>0</td>\n",
       "    </tr>\n",
       "    <tr>\n",
       "      <th>116291</th>\n",
       "      <td>116292</td>\n",
       "      <td>0</td>\n",
       "    </tr>\n",
       "    <tr>\n",
       "      <th>116292</th>\n",
       "      <td>116293</td>\n",
       "      <td>0</td>\n",
       "    </tr>\n",
       "  </tbody>\n",
       "</table>\n",
       "<p>116293 rows × 2 columns</p>\n",
       "</div>"
      ],
      "text/plain": [
       "            Id  WnvPresent\n",
       "0            1           0\n",
       "1            2           0\n",
       "2            3           0\n",
       "3            4           0\n",
       "4            5           0\n",
       "...        ...         ...\n",
       "116288  116289           0\n",
       "116289  116290           0\n",
       "116290  116291           0\n",
       "116291  116292           0\n",
       "116292  116293           0\n",
       "\n",
       "[116293 rows x 2 columns]"
      ]
     },
     "execution_count": 4,
     "metadata": {},
     "output_type": "execute_result"
    }
   ],
   "source": [
    "sample = 'C:\\\\Users\\\\Nader\\\\Desktop\\\\Final Capstone\\\\West Nile\\\\sampleSubmission.csv\\\\sampleSubmission.csv'\n",
    "sample = pd.read_csv(sample)\n",
    "sample"
   ]
  },
  {
   "cell_type": "code",
   "execution_count": 5,
   "metadata": {},
   "outputs": [
    {
     "data": {
      "text/html": [
       "<div>\n",
       "<style scoped>\n",
       "    .dataframe tbody tr th:only-of-type {\n",
       "        vertical-align: middle;\n",
       "    }\n",
       "\n",
       "    .dataframe tbody tr th {\n",
       "        vertical-align: top;\n",
       "    }\n",
       "\n",
       "    .dataframe thead th {\n",
       "        text-align: right;\n",
       "    }\n",
       "</style>\n",
       "<table border=\"1\" class=\"dataframe\">\n",
       "  <thead>\n",
       "    <tr style=\"text-align: right;\">\n",
       "      <th></th>\n",
       "      <th>Date</th>\n",
       "      <th>Address</th>\n",
       "      <th>Species</th>\n",
       "      <th>Block</th>\n",
       "      <th>Street</th>\n",
       "      <th>Trap</th>\n",
       "      <th>AddressNumberAndStreet</th>\n",
       "      <th>Latitude</th>\n",
       "      <th>Longitude</th>\n",
       "      <th>AddressAccuracy</th>\n",
       "      <th>NumMosquitos</th>\n",
       "      <th>WnvPresent</th>\n",
       "    </tr>\n",
       "  </thead>\n",
       "  <tbody>\n",
       "    <tr>\n",
       "      <th>0</th>\n",
       "      <td>2007-05-29</td>\n",
       "      <td>4100 North Oak Park Avenue, Chicago, IL 60634,...</td>\n",
       "      <td>CULEX PIPIENS/RESTUANS</td>\n",
       "      <td>41</td>\n",
       "      <td>N OAK PARK AVE</td>\n",
       "      <td>T002</td>\n",
       "      <td>4100  N OAK PARK AVE, Chicago, IL</td>\n",
       "      <td>41.954690</td>\n",
       "      <td>-87.800991</td>\n",
       "      <td>9</td>\n",
       "      <td>1</td>\n",
       "      <td>0</td>\n",
       "    </tr>\n",
       "    <tr>\n",
       "      <th>1</th>\n",
       "      <td>2007-05-29</td>\n",
       "      <td>4100 North Oak Park Avenue, Chicago, IL 60634,...</td>\n",
       "      <td>CULEX RESTUANS</td>\n",
       "      <td>41</td>\n",
       "      <td>N OAK PARK AVE</td>\n",
       "      <td>T002</td>\n",
       "      <td>4100  N OAK PARK AVE, Chicago, IL</td>\n",
       "      <td>41.954690</td>\n",
       "      <td>-87.800991</td>\n",
       "      <td>9</td>\n",
       "      <td>1</td>\n",
       "      <td>0</td>\n",
       "    </tr>\n",
       "    <tr>\n",
       "      <th>2</th>\n",
       "      <td>2007-05-29</td>\n",
       "      <td>6200 North Mandell Avenue, Chicago, IL 60646, USA</td>\n",
       "      <td>CULEX RESTUANS</td>\n",
       "      <td>62</td>\n",
       "      <td>N MANDELL AVE</td>\n",
       "      <td>T007</td>\n",
       "      <td>6200  N MANDELL AVE, Chicago, IL</td>\n",
       "      <td>41.994991</td>\n",
       "      <td>-87.769279</td>\n",
       "      <td>9</td>\n",
       "      <td>1</td>\n",
       "      <td>0</td>\n",
       "    </tr>\n",
       "    <tr>\n",
       "      <th>3</th>\n",
       "      <td>2007-05-29</td>\n",
       "      <td>7900 West Foster Avenue, Chicago, IL 60656, USA</td>\n",
       "      <td>CULEX PIPIENS/RESTUANS</td>\n",
       "      <td>79</td>\n",
       "      <td>W FOSTER AVE</td>\n",
       "      <td>T015</td>\n",
       "      <td>7900  W FOSTER AVE, Chicago, IL</td>\n",
       "      <td>41.974089</td>\n",
       "      <td>-87.824812</td>\n",
       "      <td>8</td>\n",
       "      <td>1</td>\n",
       "      <td>0</td>\n",
       "    </tr>\n",
       "    <tr>\n",
       "      <th>4</th>\n",
       "      <td>2007-05-29</td>\n",
       "      <td>7900 West Foster Avenue, Chicago, IL 60656, USA</td>\n",
       "      <td>CULEX RESTUANS</td>\n",
       "      <td>79</td>\n",
       "      <td>W FOSTER AVE</td>\n",
       "      <td>T015</td>\n",
       "      <td>7900  W FOSTER AVE, Chicago, IL</td>\n",
       "      <td>41.974089</td>\n",
       "      <td>-87.824812</td>\n",
       "      <td>8</td>\n",
       "      <td>4</td>\n",
       "      <td>0</td>\n",
       "    </tr>\n",
       "    <tr>\n",
       "      <th>...</th>\n",
       "      <td>...</td>\n",
       "      <td>...</td>\n",
       "      <td>...</td>\n",
       "      <td>...</td>\n",
       "      <td>...</td>\n",
       "      <td>...</td>\n",
       "      <td>...</td>\n",
       "      <td>...</td>\n",
       "      <td>...</td>\n",
       "      <td>...</td>\n",
       "      <td>...</td>\n",
       "      <td>...</td>\n",
       "    </tr>\n",
       "    <tr>\n",
       "      <th>10501</th>\n",
       "      <td>2013-09-26</td>\n",
       "      <td>5100 West 72nd Street, Chicago, IL 60638, USA</td>\n",
       "      <td>CULEX PIPIENS/RESTUANS</td>\n",
       "      <td>51</td>\n",
       "      <td>W 72ND ST</td>\n",
       "      <td>T035</td>\n",
       "      <td>5100  W 72ND ST, Chicago, IL</td>\n",
       "      <td>41.763733</td>\n",
       "      <td>-87.742302</td>\n",
       "      <td>8</td>\n",
       "      <td>6</td>\n",
       "      <td>1</td>\n",
       "    </tr>\n",
       "    <tr>\n",
       "      <th>10502</th>\n",
       "      <td>2013-09-26</td>\n",
       "      <td>5800 North Ridge Avenue, Chicago, IL 60660, USA</td>\n",
       "      <td>CULEX PIPIENS/RESTUANS</td>\n",
       "      <td>58</td>\n",
       "      <td>N RIDGE AVE</td>\n",
       "      <td>T231</td>\n",
       "      <td>5800  N RIDGE AVE, Chicago, IL</td>\n",
       "      <td>41.987280</td>\n",
       "      <td>-87.666066</td>\n",
       "      <td>8</td>\n",
       "      <td>5</td>\n",
       "      <td>0</td>\n",
       "    </tr>\n",
       "    <tr>\n",
       "      <th>10503</th>\n",
       "      <td>2013-09-26</td>\n",
       "      <td>1700 North Ashland Avenue, Chicago, IL 60622, USA</td>\n",
       "      <td>CULEX PIPIENS/RESTUANS</td>\n",
       "      <td>17</td>\n",
       "      <td>N ASHLAND AVE</td>\n",
       "      <td>T232</td>\n",
       "      <td>1700  N ASHLAND AVE, Chicago, IL</td>\n",
       "      <td>41.912563</td>\n",
       "      <td>-87.668055</td>\n",
       "      <td>9</td>\n",
       "      <td>1</td>\n",
       "      <td>0</td>\n",
       "    </tr>\n",
       "    <tr>\n",
       "      <th>10504</th>\n",
       "      <td>2013-09-26</td>\n",
       "      <td>7100 North Harlem Avenue, Chicago, IL 60631, USA</td>\n",
       "      <td>CULEX PIPIENS/RESTUANS</td>\n",
       "      <td>71</td>\n",
       "      <td>N HARLEM AVE</td>\n",
       "      <td>T233</td>\n",
       "      <td>7100  N HARLEM AVE, Chicago, IL</td>\n",
       "      <td>42.009876</td>\n",
       "      <td>-87.807277</td>\n",
       "      <td>9</td>\n",
       "      <td>5</td>\n",
       "      <td>0</td>\n",
       "    </tr>\n",
       "    <tr>\n",
       "      <th>10505</th>\n",
       "      <td>2013-09-26</td>\n",
       "      <td>4200 West 65th Street, Chicago, IL 60621, USA</td>\n",
       "      <td>CULEX PIPIENS/RESTUANS</td>\n",
       "      <td>42</td>\n",
       "      <td>W 65TH ST</td>\n",
       "      <td>T235</td>\n",
       "      <td>4200  W 65TH ST, Chicago, IL</td>\n",
       "      <td>41.776428</td>\n",
       "      <td>-87.627096</td>\n",
       "      <td>8</td>\n",
       "      <td>1</td>\n",
       "      <td>0</td>\n",
       "    </tr>\n",
       "  </tbody>\n",
       "</table>\n",
       "<p>10506 rows × 12 columns</p>\n",
       "</div>"
      ],
      "text/plain": [
       "             Date                                            Address  \\\n",
       "0      2007-05-29  4100 North Oak Park Avenue, Chicago, IL 60634,...   \n",
       "1      2007-05-29  4100 North Oak Park Avenue, Chicago, IL 60634,...   \n",
       "2      2007-05-29  6200 North Mandell Avenue, Chicago, IL 60646, USA   \n",
       "3      2007-05-29    7900 West Foster Avenue, Chicago, IL 60656, USA   \n",
       "4      2007-05-29    7900 West Foster Avenue, Chicago, IL 60656, USA   \n",
       "...           ...                                                ...   \n",
       "10501  2013-09-26      5100 West 72nd Street, Chicago, IL 60638, USA   \n",
       "10502  2013-09-26    5800 North Ridge Avenue, Chicago, IL 60660, USA   \n",
       "10503  2013-09-26  1700 North Ashland Avenue, Chicago, IL 60622, USA   \n",
       "10504  2013-09-26   7100 North Harlem Avenue, Chicago, IL 60631, USA   \n",
       "10505  2013-09-26      4200 West 65th Street, Chicago, IL 60621, USA   \n",
       "\n",
       "                      Species  Block           Street  Trap  \\\n",
       "0      CULEX PIPIENS/RESTUANS     41   N OAK PARK AVE  T002   \n",
       "1              CULEX RESTUANS     41   N OAK PARK AVE  T002   \n",
       "2              CULEX RESTUANS     62    N MANDELL AVE  T007   \n",
       "3      CULEX PIPIENS/RESTUANS     79     W FOSTER AVE  T015   \n",
       "4              CULEX RESTUANS     79     W FOSTER AVE  T015   \n",
       "...                       ...    ...              ...   ...   \n",
       "10501  CULEX PIPIENS/RESTUANS     51        W 72ND ST  T035   \n",
       "10502  CULEX PIPIENS/RESTUANS     58      N RIDGE AVE  T231   \n",
       "10503  CULEX PIPIENS/RESTUANS     17    N ASHLAND AVE  T232   \n",
       "10504  CULEX PIPIENS/RESTUANS     71     N HARLEM AVE  T233   \n",
       "10505  CULEX PIPIENS/RESTUANS     42        W 65TH ST  T235   \n",
       "\n",
       "                  AddressNumberAndStreet   Latitude  Longitude  \\\n",
       "0      4100  N OAK PARK AVE, Chicago, IL  41.954690 -87.800991   \n",
       "1      4100  N OAK PARK AVE, Chicago, IL  41.954690 -87.800991   \n",
       "2       6200  N MANDELL AVE, Chicago, IL  41.994991 -87.769279   \n",
       "3        7900  W FOSTER AVE, Chicago, IL  41.974089 -87.824812   \n",
       "4        7900  W FOSTER AVE, Chicago, IL  41.974089 -87.824812   \n",
       "...                                  ...        ...        ...   \n",
       "10501       5100  W 72ND ST, Chicago, IL  41.763733 -87.742302   \n",
       "10502     5800  N RIDGE AVE, Chicago, IL  41.987280 -87.666066   \n",
       "10503   1700  N ASHLAND AVE, Chicago, IL  41.912563 -87.668055   \n",
       "10504    7100  N HARLEM AVE, Chicago, IL  42.009876 -87.807277   \n",
       "10505       4200  W 65TH ST, Chicago, IL  41.776428 -87.627096   \n",
       "\n",
       "       AddressAccuracy  NumMosquitos  WnvPresent  \n",
       "0                    9             1           0  \n",
       "1                    9             1           0  \n",
       "2                    9             1           0  \n",
       "3                    8             1           0  \n",
       "4                    8             4           0  \n",
       "...                ...           ...         ...  \n",
       "10501                8             6           1  \n",
       "10502                8             5           0  \n",
       "10503                9             1           0  \n",
       "10504                9             5           0  \n",
       "10505                8             1           0  \n",
       "\n",
       "[10506 rows x 12 columns]"
      ]
     },
     "execution_count": 5,
     "metadata": {},
     "output_type": "execute_result"
    }
   ],
   "source": [
    "train ='C:\\\\Users\\\\Nader\\\\Desktop\\\\Final Capstone\\\\West Nile\\\\train.csv\\\\train.csv'\n",
    "train = pd.read_csv(train)\n",
    "train"
   ]
  },
  {
   "cell_type": "code",
   "execution_count": 6,
   "metadata": {},
   "outputs": [
    {
     "data": {
      "text/html": [
       "<div>\n",
       "<style scoped>\n",
       "    .dataframe tbody tr th:only-of-type {\n",
       "        vertical-align: middle;\n",
       "    }\n",
       "\n",
       "    .dataframe tbody tr th {\n",
       "        vertical-align: top;\n",
       "    }\n",
       "\n",
       "    .dataframe thead th {\n",
       "        text-align: right;\n",
       "    }\n",
       "</style>\n",
       "<table border=\"1\" class=\"dataframe\">\n",
       "  <thead>\n",
       "    <tr style=\"text-align: right;\">\n",
       "      <th></th>\n",
       "      <th>Id</th>\n",
       "      <th>Date</th>\n",
       "      <th>Address</th>\n",
       "      <th>Species</th>\n",
       "      <th>Block</th>\n",
       "      <th>Street</th>\n",
       "      <th>Trap</th>\n",
       "      <th>AddressNumberAndStreet</th>\n",
       "      <th>Latitude</th>\n",
       "      <th>Longitude</th>\n",
       "      <th>AddressAccuracy</th>\n",
       "    </tr>\n",
       "  </thead>\n",
       "  <tbody>\n",
       "    <tr>\n",
       "      <th>0</th>\n",
       "      <td>1</td>\n",
       "      <td>2008-06-11</td>\n",
       "      <td>4100 North Oak Park Avenue, Chicago, IL 60634,...</td>\n",
       "      <td>CULEX PIPIENS/RESTUANS</td>\n",
       "      <td>41</td>\n",
       "      <td>N OAK PARK AVE</td>\n",
       "      <td>T002</td>\n",
       "      <td>4100  N OAK PARK AVE, Chicago, IL</td>\n",
       "      <td>41.954690</td>\n",
       "      <td>-87.800991</td>\n",
       "      <td>9</td>\n",
       "    </tr>\n",
       "    <tr>\n",
       "      <th>1</th>\n",
       "      <td>2</td>\n",
       "      <td>2008-06-11</td>\n",
       "      <td>4100 North Oak Park Avenue, Chicago, IL 60634,...</td>\n",
       "      <td>CULEX RESTUANS</td>\n",
       "      <td>41</td>\n",
       "      <td>N OAK PARK AVE</td>\n",
       "      <td>T002</td>\n",
       "      <td>4100  N OAK PARK AVE, Chicago, IL</td>\n",
       "      <td>41.954690</td>\n",
       "      <td>-87.800991</td>\n",
       "      <td>9</td>\n",
       "    </tr>\n",
       "    <tr>\n",
       "      <th>2</th>\n",
       "      <td>3</td>\n",
       "      <td>2008-06-11</td>\n",
       "      <td>4100 North Oak Park Avenue, Chicago, IL 60634,...</td>\n",
       "      <td>CULEX PIPIENS</td>\n",
       "      <td>41</td>\n",
       "      <td>N OAK PARK AVE</td>\n",
       "      <td>T002</td>\n",
       "      <td>4100  N OAK PARK AVE, Chicago, IL</td>\n",
       "      <td>41.954690</td>\n",
       "      <td>-87.800991</td>\n",
       "      <td>9</td>\n",
       "    </tr>\n",
       "    <tr>\n",
       "      <th>3</th>\n",
       "      <td>4</td>\n",
       "      <td>2008-06-11</td>\n",
       "      <td>4100 North Oak Park Avenue, Chicago, IL 60634,...</td>\n",
       "      <td>CULEX SALINARIUS</td>\n",
       "      <td>41</td>\n",
       "      <td>N OAK PARK AVE</td>\n",
       "      <td>T002</td>\n",
       "      <td>4100  N OAK PARK AVE, Chicago, IL</td>\n",
       "      <td>41.954690</td>\n",
       "      <td>-87.800991</td>\n",
       "      <td>9</td>\n",
       "    </tr>\n",
       "    <tr>\n",
       "      <th>4</th>\n",
       "      <td>5</td>\n",
       "      <td>2008-06-11</td>\n",
       "      <td>4100 North Oak Park Avenue, Chicago, IL 60634,...</td>\n",
       "      <td>CULEX TERRITANS</td>\n",
       "      <td>41</td>\n",
       "      <td>N OAK PARK AVE</td>\n",
       "      <td>T002</td>\n",
       "      <td>4100  N OAK PARK AVE, Chicago, IL</td>\n",
       "      <td>41.954690</td>\n",
       "      <td>-87.800991</td>\n",
       "      <td>9</td>\n",
       "    </tr>\n",
       "    <tr>\n",
       "      <th>...</th>\n",
       "      <td>...</td>\n",
       "      <td>...</td>\n",
       "      <td>...</td>\n",
       "      <td>...</td>\n",
       "      <td>...</td>\n",
       "      <td>...</td>\n",
       "      <td>...</td>\n",
       "      <td>...</td>\n",
       "      <td>...</td>\n",
       "      <td>...</td>\n",
       "      <td>...</td>\n",
       "    </tr>\n",
       "    <tr>\n",
       "      <th>116288</th>\n",
       "      <td>116289</td>\n",
       "      <td>2014-10-02</td>\n",
       "      <td>2100 North Cannon Drive, Chicago, IL 60614, USA</td>\n",
       "      <td>CULEX SALINARIUS</td>\n",
       "      <td>21</td>\n",
       "      <td>N CANNON DR</td>\n",
       "      <td>T054C</td>\n",
       "      <td>2100  N CANNON DR, Chicago, IL</td>\n",
       "      <td>41.925652</td>\n",
       "      <td>-87.633590</td>\n",
       "      <td>8</td>\n",
       "    </tr>\n",
       "    <tr>\n",
       "      <th>116289</th>\n",
       "      <td>116290</td>\n",
       "      <td>2014-10-02</td>\n",
       "      <td>2100 North Cannon Drive, Chicago, IL 60614, USA</td>\n",
       "      <td>CULEX TERRITANS</td>\n",
       "      <td>21</td>\n",
       "      <td>N CANNON DR</td>\n",
       "      <td>T054C</td>\n",
       "      <td>2100  N CANNON DR, Chicago, IL</td>\n",
       "      <td>41.925652</td>\n",
       "      <td>-87.633590</td>\n",
       "      <td>8</td>\n",
       "    </tr>\n",
       "    <tr>\n",
       "      <th>116290</th>\n",
       "      <td>116291</td>\n",
       "      <td>2014-10-02</td>\n",
       "      <td>2100 North Cannon Drive, Chicago, IL 60614, USA</td>\n",
       "      <td>CULEX TARSALIS</td>\n",
       "      <td>21</td>\n",
       "      <td>N CANNON DR</td>\n",
       "      <td>T054C</td>\n",
       "      <td>2100  N CANNON DR, Chicago, IL</td>\n",
       "      <td>41.925652</td>\n",
       "      <td>-87.633590</td>\n",
       "      <td>8</td>\n",
       "    </tr>\n",
       "    <tr>\n",
       "      <th>116291</th>\n",
       "      <td>116292</td>\n",
       "      <td>2014-10-02</td>\n",
       "      <td>2100 North Cannon Drive, Chicago, IL 60614, USA</td>\n",
       "      <td>UNSPECIFIED CULEX</td>\n",
       "      <td>21</td>\n",
       "      <td>N CANNON DR</td>\n",
       "      <td>T054C</td>\n",
       "      <td>2100  N CANNON DR, Chicago, IL</td>\n",
       "      <td>41.925652</td>\n",
       "      <td>-87.633590</td>\n",
       "      <td>8</td>\n",
       "    </tr>\n",
       "    <tr>\n",
       "      <th>116292</th>\n",
       "      <td>116293</td>\n",
       "      <td>2014-10-02</td>\n",
       "      <td>2100 North Cannon Drive, Chicago, IL 60614, USA</td>\n",
       "      <td>CULEX ERRATICUS</td>\n",
       "      <td>21</td>\n",
       "      <td>N CANNON DR</td>\n",
       "      <td>T054C</td>\n",
       "      <td>2100  N CANNON DR, Chicago, IL</td>\n",
       "      <td>41.925652</td>\n",
       "      <td>-87.633590</td>\n",
       "      <td>8</td>\n",
       "    </tr>\n",
       "  </tbody>\n",
       "</table>\n",
       "<p>116293 rows × 11 columns</p>\n",
       "</div>"
      ],
      "text/plain": [
       "            Id        Date                                            Address  \\\n",
       "0            1  2008-06-11  4100 North Oak Park Avenue, Chicago, IL 60634,...   \n",
       "1            2  2008-06-11  4100 North Oak Park Avenue, Chicago, IL 60634,...   \n",
       "2            3  2008-06-11  4100 North Oak Park Avenue, Chicago, IL 60634,...   \n",
       "3            4  2008-06-11  4100 North Oak Park Avenue, Chicago, IL 60634,...   \n",
       "4            5  2008-06-11  4100 North Oak Park Avenue, Chicago, IL 60634,...   \n",
       "...        ...         ...                                                ...   \n",
       "116288  116289  2014-10-02    2100 North Cannon Drive, Chicago, IL 60614, USA   \n",
       "116289  116290  2014-10-02    2100 North Cannon Drive, Chicago, IL 60614, USA   \n",
       "116290  116291  2014-10-02    2100 North Cannon Drive, Chicago, IL 60614, USA   \n",
       "116291  116292  2014-10-02    2100 North Cannon Drive, Chicago, IL 60614, USA   \n",
       "116292  116293  2014-10-02    2100 North Cannon Drive, Chicago, IL 60614, USA   \n",
       "\n",
       "                       Species  Block           Street   Trap  \\\n",
       "0       CULEX PIPIENS/RESTUANS     41   N OAK PARK AVE   T002   \n",
       "1               CULEX RESTUANS     41   N OAK PARK AVE   T002   \n",
       "2                CULEX PIPIENS     41   N OAK PARK AVE   T002   \n",
       "3             CULEX SALINARIUS     41   N OAK PARK AVE   T002   \n",
       "4              CULEX TERRITANS     41   N OAK PARK AVE   T002   \n",
       "...                        ...    ...              ...    ...   \n",
       "116288        CULEX SALINARIUS     21      N CANNON DR  T054C   \n",
       "116289         CULEX TERRITANS     21      N CANNON DR  T054C   \n",
       "116290          CULEX TARSALIS     21      N CANNON DR  T054C   \n",
       "116291       UNSPECIFIED CULEX     21      N CANNON DR  T054C   \n",
       "116292         CULEX ERRATICUS     21      N CANNON DR  T054C   \n",
       "\n",
       "                   AddressNumberAndStreet   Latitude  Longitude  \\\n",
       "0       4100  N OAK PARK AVE, Chicago, IL  41.954690 -87.800991   \n",
       "1       4100  N OAK PARK AVE, Chicago, IL  41.954690 -87.800991   \n",
       "2       4100  N OAK PARK AVE, Chicago, IL  41.954690 -87.800991   \n",
       "3       4100  N OAK PARK AVE, Chicago, IL  41.954690 -87.800991   \n",
       "4       4100  N OAK PARK AVE, Chicago, IL  41.954690 -87.800991   \n",
       "...                                   ...        ...        ...   \n",
       "116288     2100  N CANNON DR, Chicago, IL  41.925652 -87.633590   \n",
       "116289     2100  N CANNON DR, Chicago, IL  41.925652 -87.633590   \n",
       "116290     2100  N CANNON DR, Chicago, IL  41.925652 -87.633590   \n",
       "116291     2100  N CANNON DR, Chicago, IL  41.925652 -87.633590   \n",
       "116292     2100  N CANNON DR, Chicago, IL  41.925652 -87.633590   \n",
       "\n",
       "        AddressAccuracy  \n",
       "0                     9  \n",
       "1                     9  \n",
       "2                     9  \n",
       "3                     9  \n",
       "4                     9  \n",
       "...                 ...  \n",
       "116288                8  \n",
       "116289                8  \n",
       "116290                8  \n",
       "116291                8  \n",
       "116292                8  \n",
       "\n",
       "[116293 rows x 11 columns]"
      ]
     },
     "execution_count": 6,
     "metadata": {},
     "output_type": "execute_result"
    }
   ],
   "source": [
    "test ='C:\\\\Users\\\\Nader\\\\Desktop\\\\Final Capstone\\\\West Nile\\\\test.csv\\\\test.csv'\n",
    "test = pd.read_csv(test)\n",
    "test"
   ]
  },
  {
   "cell_type": "markdown",
   "metadata": {},
   "source": [
    "# Data Wrangling and EDA"
   ]
  },
  {
   "cell_type": "code",
   "execution_count": 7,
   "metadata": {},
   "outputs": [
    {
     "data": {
      "text/plain": [
       "Date                      0\n",
       "Address                   0\n",
       "Species                   0\n",
       "Block                     0\n",
       "Street                    0\n",
       "Trap                      0\n",
       "AddressNumberAndStreet    0\n",
       "Latitude                  0\n",
       "Longitude                 0\n",
       "AddressAccuracy           0\n",
       "NumMosquitos              0\n",
       "WnvPresent                0\n",
       "dtype: int64"
      ]
     },
     "execution_count": 7,
     "metadata": {},
     "output_type": "execute_result"
    }
   ],
   "source": [
    "train.isnull().sum()"
   ]
  },
  {
   "cell_type": "code",
   "execution_count": 8,
   "metadata": {},
   "outputs": [
    {
     "name": "stdout",
     "output_type": "stream",
     "text": [
      "<class 'pandas.core.frame.DataFrame'>\n",
      "RangeIndex: 10506 entries, 0 to 10505\n",
      "Data columns (total 12 columns):\n",
      " #   Column                  Non-Null Count  Dtype  \n",
      "---  ------                  --------------  -----  \n",
      " 0   Date                    10506 non-null  object \n",
      " 1   Address                 10506 non-null  object \n",
      " 2   Species                 10506 non-null  object \n",
      " 3   Block                   10506 non-null  int64  \n",
      " 4   Street                  10506 non-null  object \n",
      " 5   Trap                    10506 non-null  object \n",
      " 6   AddressNumberAndStreet  10506 non-null  object \n",
      " 7   Latitude                10506 non-null  float64\n",
      " 8   Longitude               10506 non-null  float64\n",
      " 9   AddressAccuracy         10506 non-null  int64  \n",
      " 10  NumMosquitos            10506 non-null  int64  \n",
      " 11  WnvPresent              10506 non-null  int64  \n",
      "dtypes: float64(2), int64(4), object(6)\n",
      "memory usage: 985.1+ KB\n"
     ]
    }
   ],
   "source": [
    "train.info()"
   ]
  },
  {
   "cell_type": "code",
   "execution_count": 9,
   "metadata": {},
   "outputs": [
    {
     "data": {
      "text/plain": [
       "0    9955\n",
       "1     551\n",
       "Name: WnvPresent, dtype: int64"
      ]
     },
     "execution_count": 9,
     "metadata": {},
     "output_type": "execute_result"
    }
   ],
   "source": [
    "train['WnvPresent'].value_counts()"
   ]
  },
  {
   "cell_type": "code",
   "execution_count": 10,
   "metadata": {},
   "outputs": [
    {
     "data": {
      "text/plain": [
       "0    0.947554\n",
       "1    0.052446\n",
       "Name: WnvPresent, dtype: float64"
      ]
     },
     "execution_count": 10,
     "metadata": {},
     "output_type": "execute_result"
    }
   ],
   "source": [
    "train['WnvPresent'].value_counts()/len(train['WnvPresent'])"
   ]
  },
  {
   "cell_type": "code",
   "execution_count": 11,
   "metadata": {},
   "outputs": [
    {
     "data": {
      "text/plain": [
       "<AxesSubplot:xlabel='WnvPresent', ylabel='count'>"
      ]
     },
     "execution_count": 11,
     "metadata": {},
     "output_type": "execute_result"
    },
    {
     "data": {
      "image/png": "[encoded data removed]",
      "text/plain": [
       "<Figure size 432x288 with 1 Axes>"
      ]
     },
     "metadata": {
      "needs_background": "light"
     },
     "output_type": "display_data"
    }
   ],
   "source": [
    "plt.subplot(1,1,1)\n",
    "sns.countplot(x=train.WnvPresent)"
   ]
  },
  {
   "cell_type": "code",
   "execution_count": 12,
   "metadata": {},
   "outputs": [
    {
     "data": {
      "text/html": [
       "<div>\n",
       "<style scoped>\n",
       "    .dataframe tbody tr th:only-of-type {\n",
       "        vertical-align: middle;\n",
       "    }\n",
       "\n",
       "    .dataframe tbody tr th {\n",
       "        vertical-align: top;\n",
       "    }\n",
       "\n",
       "    .dataframe thead th {\n",
       "        text-align: right;\n",
       "    }\n",
       "</style>\n",
       "<table border=\"1\" class=\"dataframe\">\n",
       "  <thead>\n",
       "    <tr style=\"text-align: right;\">\n",
       "      <th></th>\n",
       "      <th>Station</th>\n",
       "      <th>Date</th>\n",
       "      <th>Tmax</th>\n",
       "      <th>Tmin</th>\n",
       "      <th>Tavg</th>\n",
       "      <th>Depart</th>\n",
       "      <th>DewPoint</th>\n",
       "      <th>WetBulb</th>\n",
       "      <th>Heat</th>\n",
       "      <th>Cool</th>\n",
       "      <th>...</th>\n",
       "      <th>CodeSum</th>\n",
       "      <th>Depth</th>\n",
       "      <th>Water1</th>\n",
       "      <th>SnowFall</th>\n",
       "      <th>PrecipTotal</th>\n",
       "      <th>StnPressure</th>\n",
       "      <th>SeaLevel</th>\n",
       "      <th>ResultSpeed</th>\n",
       "      <th>ResultDir</th>\n",
       "      <th>AvgSpeed</th>\n",
       "    </tr>\n",
       "  </thead>\n",
       "  <tbody>\n",
       "    <tr>\n",
       "      <th>0</th>\n",
       "      <td>1</td>\n",
       "      <td>2007-05-01</td>\n",
       "      <td>83</td>\n",
       "      <td>50</td>\n",
       "      <td>67</td>\n",
       "      <td>14</td>\n",
       "      <td>51</td>\n",
       "      <td>56</td>\n",
       "      <td>0</td>\n",
       "      <td>2</td>\n",
       "      <td>...</td>\n",
       "      <td></td>\n",
       "      <td>0</td>\n",
       "      <td>M</td>\n",
       "      <td>0.0</td>\n",
       "      <td>0.00</td>\n",
       "      <td>29.10</td>\n",
       "      <td>29.82</td>\n",
       "      <td>1.7</td>\n",
       "      <td>27</td>\n",
       "      <td>9.2</td>\n",
       "    </tr>\n",
       "    <tr>\n",
       "      <th>1</th>\n",
       "      <td>2</td>\n",
       "      <td>2007-05-01</td>\n",
       "      <td>84</td>\n",
       "      <td>52</td>\n",
       "      <td>68</td>\n",
       "      <td>M</td>\n",
       "      <td>51</td>\n",
       "      <td>57</td>\n",
       "      <td>0</td>\n",
       "      <td>3</td>\n",
       "      <td>...</td>\n",
       "      <td></td>\n",
       "      <td>M</td>\n",
       "      <td>M</td>\n",
       "      <td>M</td>\n",
       "      <td>0.00</td>\n",
       "      <td>29.18</td>\n",
       "      <td>29.82</td>\n",
       "      <td>2.7</td>\n",
       "      <td>25</td>\n",
       "      <td>9.6</td>\n",
       "    </tr>\n",
       "    <tr>\n",
       "      <th>2</th>\n",
       "      <td>1</td>\n",
       "      <td>2007-05-02</td>\n",
       "      <td>59</td>\n",
       "      <td>42</td>\n",
       "      <td>51</td>\n",
       "      <td>-3</td>\n",
       "      <td>42</td>\n",
       "      <td>47</td>\n",
       "      <td>14</td>\n",
       "      <td>0</td>\n",
       "      <td>...</td>\n",
       "      <td>BR</td>\n",
       "      <td>0</td>\n",
       "      <td>M</td>\n",
       "      <td>0.0</td>\n",
       "      <td>0.00</td>\n",
       "      <td>29.38</td>\n",
       "      <td>30.09</td>\n",
       "      <td>13.0</td>\n",
       "      <td>4</td>\n",
       "      <td>13.4</td>\n",
       "    </tr>\n",
       "    <tr>\n",
       "      <th>3</th>\n",
       "      <td>2</td>\n",
       "      <td>2007-05-02</td>\n",
       "      <td>60</td>\n",
       "      <td>43</td>\n",
       "      <td>52</td>\n",
       "      <td>M</td>\n",
       "      <td>42</td>\n",
       "      <td>47</td>\n",
       "      <td>13</td>\n",
       "      <td>0</td>\n",
       "      <td>...</td>\n",
       "      <td>BR HZ</td>\n",
       "      <td>M</td>\n",
       "      <td>M</td>\n",
       "      <td>M</td>\n",
       "      <td>0.00</td>\n",
       "      <td>29.44</td>\n",
       "      <td>30.08</td>\n",
       "      <td>13.3</td>\n",
       "      <td>2</td>\n",
       "      <td>13.4</td>\n",
       "    </tr>\n",
       "    <tr>\n",
       "      <th>4</th>\n",
       "      <td>1</td>\n",
       "      <td>2007-05-03</td>\n",
       "      <td>66</td>\n",
       "      <td>46</td>\n",
       "      <td>56</td>\n",
       "      <td>2</td>\n",
       "      <td>40</td>\n",
       "      <td>48</td>\n",
       "      <td>9</td>\n",
       "      <td>0</td>\n",
       "      <td>...</td>\n",
       "      <td></td>\n",
       "      <td>0</td>\n",
       "      <td>M</td>\n",
       "      <td>0.0</td>\n",
       "      <td>0.00</td>\n",
       "      <td>29.39</td>\n",
       "      <td>30.12</td>\n",
       "      <td>11.7</td>\n",
       "      <td>7</td>\n",
       "      <td>11.9</td>\n",
       "    </tr>\n",
       "  </tbody>\n",
       "</table>\n",
       "<p>5 rows × 22 columns</p>\n",
       "</div>"
      ],
      "text/plain": [
       "   Station        Date  Tmax  Tmin Tavg Depart  DewPoint WetBulb Heat Cool  \\\n",
       "0        1  2007-05-01    83    50   67     14        51      56    0    2   \n",
       "1        2  2007-05-01    84    52   68      M        51      57    0    3   \n",
       "2        1  2007-05-02    59    42   51     -3        42      47   14    0   \n",
       "3        2  2007-05-02    60    43   52      M        42      47   13    0   \n",
       "4        1  2007-05-03    66    46   56      2        40      48    9    0   \n",
       "\n",
       "   ... CodeSum Depth Water1 SnowFall PrecipTotal StnPressure SeaLevel  \\\n",
       "0  ...             0      M      0.0        0.00       29.10    29.82   \n",
       "1  ...             M      M        M        0.00       29.18    29.82   \n",
       "2  ...      BR     0      M      0.0        0.00       29.38    30.09   \n",
       "3  ...   BR HZ     M      M        M        0.00       29.44    30.08   \n",
       "4  ...             0      M      0.0        0.00       29.39    30.12   \n",
       "\n",
       "  ResultSpeed ResultDir  AvgSpeed  \n",
       "0         1.7        27       9.2  \n",
       "1         2.7        25       9.6  \n",
       "2        13.0         4      13.4  \n",
       "3        13.3         2      13.4  \n",
       "4        11.7         7      11.9  \n",
       "\n",
       "[5 rows x 22 columns]"
      ]
     },
     "execution_count": 12,
     "metadata": {},
     "output_type": "execute_result"
    }
   ],
   "source": [
    "weather.head()"
   ]
  },
  {
   "cell_type": "code",
   "execution_count": 13,
   "metadata": {},
   "outputs": [
    {
     "data": {
      "text/plain": [
       "Station        0\n",
       "Date           0\n",
       "Tmax           0\n",
       "Tmin           0\n",
       "Tavg           0\n",
       "Depart         0\n",
       "DewPoint       0\n",
       "WetBulb        0\n",
       "Heat           0\n",
       "Cool           0\n",
       "Sunrise        0\n",
       "Sunset         0\n",
       "CodeSum        0\n",
       "Depth          0\n",
       "Water1         0\n",
       "SnowFall       0\n",
       "PrecipTotal    0\n",
       "StnPressure    0\n",
       "SeaLevel       0\n",
       "ResultSpeed    0\n",
       "ResultDir      0\n",
       "AvgSpeed       0\n",
       "dtype: int64"
      ]
     },
     "execution_count": 13,
     "metadata": {},
     "output_type": "execute_result"
    }
   ],
   "source": [
    "weather.isnull().sum()"
   ]
  },
  {
   "cell_type": "code",
   "execution_count": 14,
   "metadata": {},
   "outputs": [],
   "source": [
    "weather = weather.replace('M', -1)\n",
    "# -1 Indicates Misisng Data\n",
    "weather = weather.drop(labels=['Depart','CodeSum','Depth','Water1','SnowFall'], axis=1) "
   ]
  },
  {
   "cell_type": "code",
   "execution_count": 15,
   "metadata": {},
   "outputs": [
    {
     "data": {
      "text/plain": [
       "CULEX PIPIENS/RESTUANS    4752\n",
       "CULEX RESTUANS            2740\n",
       "CULEX PIPIENS             2699\n",
       "CULEX TERRITANS            222\n",
       "CULEX SALINARIUS            86\n",
       "CULEX TARSALIS               6\n",
       "CULEX ERRATICUS              1\n",
       "Name: Species, dtype: int64"
      ]
     },
     "execution_count": 15,
     "metadata": {},
     "output_type": "execute_result"
    }
   ],
   "source": [
    "train.Species.value_counts()"
   ]
  },
  {
   "cell_type": "code",
   "execution_count": 16,
   "metadata": {},
   "outputs": [
    {
     "data": {
      "text/plain": [
       "CULEX PIPIENS/RESTUANS    4752\n",
       "CULEX RESTUANS            2740\n",
       "CULEX PIPIENS             2699\n",
       "CULEX TERRITANS            222\n",
       "CULEX SALINARIUS            86\n",
       "CULEX TARSALIS               6\n",
       "CULEX ERRATICUS              1\n",
       "Name: Species, dtype: int64"
      ]
     },
     "execution_count": 16,
     "metadata": {},
     "output_type": "execute_result"
    }
   ],
   "source": [
    "train.Species.value_counts()"
   ]
  },
  {
   "cell_type": "markdown",
   "metadata": {},
   "source": [
    "# Distance of Weather Station to Trap"
   ]
  },
  {
   "cell_type": "code",
   "execution_count": 17,
   "metadata": {},
   "outputs": [],
   "source": [
    "LatitudeW = []\n",
    "LongitudeW = []\n",
    "for i in weather['Station']:\n",
    "    if i == 1.0:\n",
    "        LatitudeW.append(41.995)\n",
    "        LongitudeW.append(-87.933)\n",
    "    else:\n",
    "        LatitudeW.append(41.786)\n",
    "        LongitudeW.append(-87.752 )"
   ]
  },
  {
   "cell_type": "code",
   "execution_count": 18,
   "metadata": {},
   "outputs": [
    {
     "data": {
      "text/plain": [
       "2007-08-01    551\n",
       "2007-08-15    276\n",
       "2007-08-24    186\n",
       "2007-08-21    186\n",
       "2013-08-01    186\n",
       "             ... \n",
       "2007-08-09     26\n",
       "2007-05-29     25\n",
       "2007-09-25     23\n",
       "2009-06-03     14\n",
       "2007-08-03      5\n",
       "Name: Date, Length: 95, dtype: int64"
      ]
     },
     "execution_count": 18,
     "metadata": {},
     "output_type": "execute_result"
    }
   ],
   "source": [
    "weather['LatitudeW'] = LatitudeW\n",
    "weather['LongitudeW'] = LongitudeW\n",
    "train['Date'].value_counts()"
   ]
  },
  {
   "cell_type": "code",
   "execution_count": 19,
   "metadata": {},
   "outputs": [
    {
     "data": {
      "text/plain": [
       "(2944, 19)"
      ]
     },
     "execution_count": 19,
     "metadata": {},
     "output_type": "execute_result"
    }
   ],
   "source": [
    "weather.shape"
   ]
  },
  {
   "cell_type": "code",
   "execution_count": 20,
   "metadata": {},
   "outputs": [],
   "source": [
    "result = train.merge(weather, on ='Date')\n",
    "result['LatDif'] = abs(result['Latitude'] - result['LatitudeW'])\n",
    "result['LonDif'] = abs(result['Longitude'] - result['LongitudeW'])\n",
    "result['CoorAvg'] = (result['LatDif'] + result['LonDif'])/2\n",
    "result = result.sort_values(by = 'CoorAvg')\n",
    "result = result.drop_duplicates(['Date', 'Address', 'Trap', 'Latitude', 'Longitude'], keep='first')"
   ]
  },
  {
   "cell_type": "code",
   "execution_count": 21,
   "metadata": {},
   "outputs": [
    {
     "data": {
      "text/html": [
       "<div>\n",
       "<style scoped>\n",
       "    .dataframe tbody tr th:only-of-type {\n",
       "        vertical-align: middle;\n",
       "    }\n",
       "\n",
       "    .dataframe tbody tr th {\n",
       "        vertical-align: top;\n",
       "    }\n",
       "\n",
       "    .dataframe thead th {\n",
       "        text-align: right;\n",
       "    }\n",
       "</style>\n",
       "<table border=\"1\" class=\"dataframe\">\n",
       "  <thead>\n",
       "    <tr style=\"text-align: right;\">\n",
       "      <th></th>\n",
       "      <th>Date</th>\n",
       "      <th>Address</th>\n",
       "      <th>Species</th>\n",
       "      <th>Block</th>\n",
       "      <th>Street</th>\n",
       "      <th>Trap</th>\n",
       "      <th>AddressNumberAndStreet</th>\n",
       "      <th>Latitude</th>\n",
       "      <th>Longitude</th>\n",
       "      <th>AddressAccuracy</th>\n",
       "      <th>...</th>\n",
       "      <th>StnPressure</th>\n",
       "      <th>SeaLevel</th>\n",
       "      <th>ResultSpeed</th>\n",
       "      <th>ResultDir</th>\n",
       "      <th>AvgSpeed</th>\n",
       "      <th>LatitudeW</th>\n",
       "      <th>LongitudeW</th>\n",
       "      <th>LatDif</th>\n",
       "      <th>LonDif</th>\n",
       "      <th>CoorAvg</th>\n",
       "    </tr>\n",
       "  </thead>\n",
       "  <tbody>\n",
       "  </tbody>\n",
       "</table>\n",
       "<p>0 rows × 33 columns</p>\n",
       "</div>"
      ],
      "text/plain": [
       "Empty DataFrame\n",
       "Columns: [Date, Address, Species, Block, Street, Trap, AddressNumberAndStreet, Latitude, Longitude, AddressAccuracy, NumMosquitos, WnvPresent, Station, Tmax, Tmin, Tavg, DewPoint, WetBulb, Heat, Cool, Sunrise, Sunset, PrecipTotal, StnPressure, SeaLevel, ResultSpeed, ResultDir, AvgSpeed, LatitudeW, LongitudeW, LatDif, LonDif, CoorAvg]\n",
       "Index: []\n",
       "\n",
       "[0 rows x 33 columns]"
      ]
     },
     "execution_count": 21,
     "metadata": {},
     "output_type": "execute_result"
    }
   ],
   "source": [
    "duplicate = result[result.duplicated(['Date', 'Latitude', 'Longitude', 'Trap'])]\n",
    "duplicate"
   ]
  },
  {
   "cell_type": "code",
   "execution_count": 22,
   "metadata": {},
   "outputs": [
    {
     "data": {
      "text/plain": [
       "Id            0\n",
       "WnvPresent    0\n",
       "dtype: int64"
      ]
     },
     "execution_count": 22,
     "metadata": {},
     "output_type": "execute_result"
    }
   ],
   "source": [
    "sample.isnull().sum()"
   ]
  },
  {
   "cell_type": "code",
   "execution_count": 23,
   "metadata": {},
   "outputs": [
    {
     "data": {
      "text/plain": [
       "(2944, 19)"
      ]
     },
     "execution_count": 23,
     "metadata": {},
     "output_type": "execute_result"
    }
   ],
   "source": [
    "weather.shape"
   ]
  },
  {
   "cell_type": "code",
   "execution_count": 24,
   "metadata": {},
   "outputs": [
    {
     "data": {
      "text/plain": [
       "(116293, 2)"
      ]
     },
     "execution_count": 24,
     "metadata": {},
     "output_type": "execute_result"
    }
   ],
   "source": [
    "sample.shape"
   ]
  },
  {
   "cell_type": "code",
   "execution_count": 25,
   "metadata": {},
   "outputs": [
    {
     "data": {
      "text/plain": [
       "(10506, 12)"
      ]
     },
     "execution_count": 25,
     "metadata": {},
     "output_type": "execute_result"
    }
   ],
   "source": [
    "train.shape"
   ]
  },
  {
   "cell_type": "code",
   "execution_count": 26,
   "metadata": {},
   "outputs": [
    {
     "data": {
      "text/plain": [
       "Date           0\n",
       "Time         584\n",
       "Latitude       0\n",
       "Longitude      0\n",
       "dtype: int64"
      ]
     },
     "execution_count": 26,
     "metadata": {},
     "output_type": "execute_result"
    }
   ],
   "source": [
    "spray.isnull().sum()"
   ]
  },
  {
   "cell_type": "code",
   "execution_count": 27,
   "metadata": {},
   "outputs": [],
   "source": [
    "spray = spray.drop(columns = 'Time')"
   ]
  },
  {
   "cell_type": "code",
   "execution_count": 28,
   "metadata": {},
   "outputs": [
    {
     "data": {
      "text/plain": [
       "Date         0\n",
       "Latitude     0\n",
       "Longitude    0\n",
       "dtype: int64"
      ]
     },
     "execution_count": 28,
     "metadata": {},
     "output_type": "execute_result"
    }
   ],
   "source": [
    "spray.isnull().sum()"
   ]
  },
  {
   "cell_type": "code",
   "execution_count": 29,
   "metadata": {},
   "outputs": [
    {
     "data": {
      "text/plain": [
       "Id                        0\n",
       "Date                      0\n",
       "Address                   0\n",
       "Species                   0\n",
       "Block                     0\n",
       "Street                    0\n",
       "Trap                      0\n",
       "AddressNumberAndStreet    0\n",
       "Latitude                  0\n",
       "Longitude                 0\n",
       "AddressAccuracy           0\n",
       "dtype: int64"
      ]
     },
     "execution_count": 29,
     "metadata": {},
     "output_type": "execute_result"
    }
   ],
   "source": [
    "test.isnull().sum()"
   ]
  },
  {
   "cell_type": "code",
   "execution_count": 30,
   "metadata": {},
   "outputs": [
    {
     "data": {
      "text/html": [
       "<div>\n",
       "<style scoped>\n",
       "    .dataframe tbody tr th:only-of-type {\n",
       "        vertical-align: middle;\n",
       "    }\n",
       "\n",
       "    .dataframe tbody tr th {\n",
       "        vertical-align: top;\n",
       "    }\n",
       "\n",
       "    .dataframe thead th {\n",
       "        text-align: right;\n",
       "    }\n",
       "</style>\n",
       "<table border=\"1\" class=\"dataframe\">\n",
       "  <thead>\n",
       "    <tr style=\"text-align: right;\">\n",
       "      <th></th>\n",
       "      <th>Block</th>\n",
       "      <th>Latitude</th>\n",
       "      <th>Longitude</th>\n",
       "      <th>AddressAccuracy</th>\n",
       "      <th>NumMosquitos</th>\n",
       "      <th>WnvPresent</th>\n",
       "    </tr>\n",
       "  </thead>\n",
       "  <tbody>\n",
       "    <tr>\n",
       "      <th>count</th>\n",
       "      <td>10506.000000</td>\n",
       "      <td>10506.000000</td>\n",
       "      <td>10506.000000</td>\n",
       "      <td>10506.000000</td>\n",
       "      <td>10506.000000</td>\n",
       "      <td>10506.000000</td>\n",
       "    </tr>\n",
       "    <tr>\n",
       "      <th>mean</th>\n",
       "      <td>35.687797</td>\n",
       "      <td>41.841139</td>\n",
       "      <td>-87.699908</td>\n",
       "      <td>7.819532</td>\n",
       "      <td>12.853512</td>\n",
       "      <td>0.052446</td>\n",
       "    </tr>\n",
       "    <tr>\n",
       "      <th>std</th>\n",
       "      <td>24.339468</td>\n",
       "      <td>0.112742</td>\n",
       "      <td>0.096514</td>\n",
       "      <td>1.452921</td>\n",
       "      <td>16.133816</td>\n",
       "      <td>0.222936</td>\n",
       "    </tr>\n",
       "    <tr>\n",
       "      <th>min</th>\n",
       "      <td>10.000000</td>\n",
       "      <td>41.644612</td>\n",
       "      <td>-87.930995</td>\n",
       "      <td>3.000000</td>\n",
       "      <td>1.000000</td>\n",
       "      <td>0.000000</td>\n",
       "    </tr>\n",
       "    <tr>\n",
       "      <th>25%</th>\n",
       "      <td>12.000000</td>\n",
       "      <td>41.732984</td>\n",
       "      <td>-87.760070</td>\n",
       "      <td>8.000000</td>\n",
       "      <td>2.000000</td>\n",
       "      <td>0.000000</td>\n",
       "    </tr>\n",
       "    <tr>\n",
       "      <th>50%</th>\n",
       "      <td>33.000000</td>\n",
       "      <td>41.846283</td>\n",
       "      <td>-87.694991</td>\n",
       "      <td>8.000000</td>\n",
       "      <td>5.000000</td>\n",
       "      <td>0.000000</td>\n",
       "    </tr>\n",
       "    <tr>\n",
       "      <th>75%</th>\n",
       "      <td>52.000000</td>\n",
       "      <td>41.954690</td>\n",
       "      <td>-87.627796</td>\n",
       "      <td>9.000000</td>\n",
       "      <td>17.000000</td>\n",
       "      <td>0.000000</td>\n",
       "    </tr>\n",
       "    <tr>\n",
       "      <th>max</th>\n",
       "      <td>98.000000</td>\n",
       "      <td>42.017430</td>\n",
       "      <td>-87.531635</td>\n",
       "      <td>9.000000</td>\n",
       "      <td>50.000000</td>\n",
       "      <td>1.000000</td>\n",
       "    </tr>\n",
       "  </tbody>\n",
       "</table>\n",
       "</div>"
      ],
      "text/plain": [
       "              Block      Latitude     Longitude  AddressAccuracy  \\\n",
       "count  10506.000000  10506.000000  10506.000000     10506.000000   \n",
       "mean      35.687797     41.841139    -87.699908         7.819532   \n",
       "std       24.339468      0.112742      0.096514         1.452921   \n",
       "min       10.000000     41.644612    -87.930995         3.000000   \n",
       "25%       12.000000     41.732984    -87.760070         8.000000   \n",
       "50%       33.000000     41.846283    -87.694991         8.000000   \n",
       "75%       52.000000     41.954690    -87.627796         9.000000   \n",
       "max       98.000000     42.017430    -87.531635         9.000000   \n",
       "\n",
       "       NumMosquitos    WnvPresent  \n",
       "count  10506.000000  10506.000000  \n",
       "mean      12.853512      0.052446  \n",
       "std       16.133816      0.222936  \n",
       "min        1.000000      0.000000  \n",
       "25%        2.000000      0.000000  \n",
       "50%        5.000000      0.000000  \n",
       "75%       17.000000      0.000000  \n",
       "max       50.000000      1.000000  "
      ]
     },
     "execution_count": 30,
     "metadata": {},
     "output_type": "execute_result"
    }
   ],
   "source": [
    "train.describe()"
   ]
  },
  {
   "cell_type": "code",
   "execution_count": 31,
   "metadata": {},
   "outputs": [
    {
     "name": "stdout",
     "output_type": "stream",
     "text": [
      "<class 'pandas.core.frame.DataFrame'>\n",
      "RangeIndex: 2944 entries, 0 to 2943\n",
      "Data columns (total 19 columns):\n",
      " #   Column       Non-Null Count  Dtype  \n",
      "---  ------       --------------  -----  \n",
      " 0   Station      2944 non-null   int64  \n",
      " 1   Date         2944 non-null   object \n",
      " 2   Tmax         2944 non-null   int64  \n",
      " 3   Tmin         2944 non-null   int64  \n",
      " 4   Tavg         2944 non-null   object \n",
      " 5   DewPoint     2944 non-null   int64  \n",
      " 6   WetBulb      2944 non-null   object \n",
      " 7   Heat         2944 non-null   object \n",
      " 8   Cool         2944 non-null   object \n",
      " 9   Sunrise      2944 non-null   object \n",
      " 10  Sunset       2944 non-null   object \n",
      " 11  PrecipTotal  2944 non-null   object \n",
      " 12  StnPressure  2944 non-null   object \n",
      " 13  SeaLevel     2944 non-null   object \n",
      " 14  ResultSpeed  2944 non-null   float64\n",
      " 15  ResultDir    2944 non-null   int64  \n",
      " 16  AvgSpeed     2944 non-null   object \n",
      " 17  LatitudeW    2944 non-null   float64\n",
      " 18  LongitudeW   2944 non-null   float64\n",
      "dtypes: float64(3), int64(5), object(11)\n",
      "memory usage: 437.1+ KB\n"
     ]
    }
   ],
   "source": [
    "weather.info()"
   ]
  },
  {
   "cell_type": "code",
   "execution_count": 32,
   "metadata": {},
   "outputs": [],
   "source": [
    "for i in weather.columns: #iterate through each column\n",
    "    if i not in ['Date']: #ignore these columns for now (want to convert the rest to floats)\n",
    "        weather[i].replace('-', 0, inplace=True) #'-' is 0\n",
    "        weather[i].replace('  T', 0.005, inplace=True) #'T' is trace \n",
    "        weather[i] = weather[i].astype('float') #covert to float"
   ]
  },
  {
   "cell_type": "code",
   "execution_count": 33,
   "metadata": {},
   "outputs": [],
   "source": [
    "weather['Date'] = pd.to_datetime(weather['Date'])\n",
    "train['Date'] = pd.to_datetime(train['Date'])\n",
    "spray['Date'] = pd.to_datetime(spray['Date'])\n",
    "result['Date'] = pd.to_datetime(result['Date'])"
   ]
  },
  {
   "cell_type": "code",
   "execution_count": 34,
   "metadata": {},
   "outputs": [
    {
     "name": "stdout",
     "output_type": "stream",
     "text": [
      "<class 'pandas.core.frame.DataFrame'>\n",
      "RangeIndex: 2944 entries, 0 to 2943\n",
      "Data columns (total 19 columns):\n",
      " #   Column       Non-Null Count  Dtype         \n",
      "---  ------       --------------  -----         \n",
      " 0   Station      2944 non-null   float64       \n",
      " 1   Date         2944 non-null   datetime64[ns]\n",
      " 2   Tmax         2944 non-null   float64       \n",
      " 3   Tmin         2944 non-null   float64       \n",
      " 4   Tavg         2944 non-null   float64       \n",
      " 5   DewPoint     2944 non-null   float64       \n",
      " 6   WetBulb      2944 non-null   float64       \n",
      " 7   Heat         2944 non-null   float64       \n",
      " 8   Cool         2944 non-null   float64       \n",
      " 9   Sunrise      2944 non-null   float64       \n",
      " 10  Sunset       2944 non-null   float64       \n",
      " 11  PrecipTotal  2944 non-null   float64       \n",
      " 12  StnPressure  2944 non-null   float64       \n",
      " 13  SeaLevel     2944 non-null   float64       \n",
      " 14  ResultSpeed  2944 non-null   float64       \n",
      " 15  ResultDir    2944 non-null   float64       \n",
      " 16  AvgSpeed     2944 non-null   float64       \n",
      " 17  LatitudeW    2944 non-null   float64       \n",
      " 18  LongitudeW   2944 non-null   float64       \n",
      "dtypes: datetime64[ns](1), float64(18)\n",
      "memory usage: 437.1 KB\n"
     ]
    }
   ],
   "source": [
    "weather.info()"
   ]
  },
  {
   "cell_type": "code",
   "execution_count": 35,
   "metadata": {},
   "outputs": [
    {
     "data": {
      "text/html": [
       "<div>\n",
       "<style scoped>\n",
       "    .dataframe tbody tr th:only-of-type {\n",
       "        vertical-align: middle;\n",
       "    }\n",
       "\n",
       "    .dataframe tbody tr th {\n",
       "        vertical-align: top;\n",
       "    }\n",
       "\n",
       "    .dataframe thead th {\n",
       "        text-align: right;\n",
       "    }\n",
       "</style>\n",
       "<table border=\"1\" class=\"dataframe\">\n",
       "  <thead>\n",
       "    <tr style=\"text-align: right;\">\n",
       "      <th></th>\n",
       "      <th>Latitude</th>\n",
       "      <th>Longitude</th>\n",
       "    </tr>\n",
       "  </thead>\n",
       "  <tbody>\n",
       "    <tr>\n",
       "      <th>count</th>\n",
       "      <td>14835.000000</td>\n",
       "      <td>14835.000000</td>\n",
       "    </tr>\n",
       "    <tr>\n",
       "      <th>mean</th>\n",
       "      <td>41.904828</td>\n",
       "      <td>-87.736690</td>\n",
       "    </tr>\n",
       "    <tr>\n",
       "      <th>std</th>\n",
       "      <td>0.104381</td>\n",
       "      <td>0.067292</td>\n",
       "    </tr>\n",
       "    <tr>\n",
       "      <th>min</th>\n",
       "      <td>41.713925</td>\n",
       "      <td>-88.096468</td>\n",
       "    </tr>\n",
       "    <tr>\n",
       "      <th>25%</th>\n",
       "      <td>41.785001</td>\n",
       "      <td>-87.794225</td>\n",
       "    </tr>\n",
       "    <tr>\n",
       "      <th>50%</th>\n",
       "      <td>41.940075</td>\n",
       "      <td>-87.727853</td>\n",
       "    </tr>\n",
       "    <tr>\n",
       "      <th>75%</th>\n",
       "      <td>41.980978</td>\n",
       "      <td>-87.694108</td>\n",
       "    </tr>\n",
       "    <tr>\n",
       "      <th>max</th>\n",
       "      <td>42.395983</td>\n",
       "      <td>-87.586727</td>\n",
       "    </tr>\n",
       "  </tbody>\n",
       "</table>\n",
       "</div>"
      ],
      "text/plain": [
       "           Latitude     Longitude\n",
       "count  14835.000000  14835.000000\n",
       "mean      41.904828    -87.736690\n",
       "std        0.104381      0.067292\n",
       "min       41.713925    -88.096468\n",
       "25%       41.785001    -87.794225\n",
       "50%       41.940075    -87.727853\n",
       "75%       41.980978    -87.694108\n",
       "max       42.395983    -87.586727"
      ]
     },
     "execution_count": 35,
     "metadata": {},
     "output_type": "execute_result"
    }
   ],
   "source": [
    "spray.describe()"
   ]
  },
  {
   "cell_type": "code",
   "execution_count": 36,
   "metadata": {},
   "outputs": [],
   "source": [
    "result['Weekday'] = result['Date'].dt.dayofweek"
   ]
  },
  {
   "cell_type": "code",
   "execution_count": 37,
   "metadata": {},
   "outputs": [],
   "source": [
    "#result['Weekday'] = result['Weekday'].map({0 : 'Monday', 1 : 'Tuesday', 2 : 'Wednesday', 3 : 'Thursday', 4 : 'Friday', 5 : 'Saturday', 6 : 'Sunday'})"
   ]
  },
  {
   "cell_type": "code",
   "execution_count": 38,
   "metadata": {},
   "outputs": [],
   "source": [
    "result['Month'] = result['Date'].dt.month\n",
    "#result['Month'] = result['Month'].map({1 : 'Jan', 2 : 'Feb', 3 : 'Mar', 4 : 'Apr', 5 : 'May', 6 : 'Jun', 7 : 'Jul', 8 : 'Aug', 9 : 'Sep', 10 : 'Oct', 11 : 'Nov', 12 : 'Dec'})"
   ]
  },
  {
   "cell_type": "code",
   "execution_count": 39,
   "metadata": {},
   "outputs": [
    {
     "data": {
      "text/plain": [
       "8     1363\n",
       "9     1143\n",
       "7     1093\n",
       "6      816\n",
       "10     142\n",
       "5       59\n",
       "Name: Month, dtype: int64"
      ]
     },
     "execution_count": 39,
     "metadata": {},
     "output_type": "execute_result"
    }
   ],
   "source": [
    "result['Month'].value_counts()"
   ]
  },
  {
   "cell_type": "code",
   "execution_count": 40,
   "metadata": {},
   "outputs": [
    {
     "data": {
      "text/html": [
       "<div>\n",
       "<style scoped>\n",
       "    .dataframe tbody tr th:only-of-type {\n",
       "        vertical-align: middle;\n",
       "    }\n",
       "\n",
       "    .dataframe tbody tr th {\n",
       "        vertical-align: top;\n",
       "    }\n",
       "\n",
       "    .dataframe thead th {\n",
       "        text-align: right;\n",
       "    }\n",
       "</style>\n",
       "<table border=\"1\" class=\"dataframe\">\n",
       "  <thead>\n",
       "    <tr style=\"text-align: right;\">\n",
       "      <th></th>\n",
       "      <th>Total_Count</th>\n",
       "      <th>Wnv_Count</th>\n",
       "      <th>Wnv_Percent</th>\n",
       "    </tr>\n",
       "  </thead>\n",
       "  <tbody>\n",
       "    <tr>\n",
       "      <th>8</th>\n",
       "      <td>1363</td>\n",
       "      <td>131</td>\n",
       "      <td>9.611152</td>\n",
       "    </tr>\n",
       "    <tr>\n",
       "      <th>9</th>\n",
       "      <td>1143</td>\n",
       "      <td>51</td>\n",
       "      <td>4.461942</td>\n",
       "    </tr>\n",
       "    <tr>\n",
       "      <th>7</th>\n",
       "      <td>1093</td>\n",
       "      <td>16</td>\n",
       "      <td>1.463861</td>\n",
       "    </tr>\n",
       "    <tr>\n",
       "      <th>6</th>\n",
       "      <td>816</td>\n",
       "      <td>1</td>\n",
       "      <td>0.122549</td>\n",
       "    </tr>\n",
       "    <tr>\n",
       "      <th>10</th>\n",
       "      <td>142</td>\n",
       "      <td>0</td>\n",
       "      <td>0.000000</td>\n",
       "    </tr>\n",
       "    <tr>\n",
       "      <th>5</th>\n",
       "      <td>59</td>\n",
       "      <td>0</td>\n",
       "      <td>0.000000</td>\n",
       "    </tr>\n",
       "  </tbody>\n",
       "</table>\n",
       "</div>"
      ],
      "text/plain": [
       "    Total_Count  Wnv_Count  Wnv_Percent\n",
       "8          1363        131     9.611152\n",
       "9          1143         51     4.461942\n",
       "7          1093         16     1.463861\n",
       "6           816          1     0.122549\n",
       "10          142          0     0.000000\n",
       "5            59          0     0.000000"
      ]
     },
     "execution_count": 40,
     "metadata": {},
     "output_type": "execute_result"
    }
   ],
   "source": [
    "MonthCount = result.Month.value_counts()\n",
    "MonthWithWNV = result.groupby('Month')['WnvPresent'].sum().sort_values(ascending=False)\n",
    "MonthCount=MonthCount.to_frame().join(MonthWithWNV.to_frame())\n",
    "MonthCount = MonthCount.rename(columns = {'Month' : 'Total_Count', 'WnvPresent' : 'Wnv_Count'})\n",
    "MonthCount['Wnv_Percent'] = MonthCount.Wnv_Count*100/MonthCount.Total_Count\n",
    "MonthCount"
   ]
  },
  {
   "cell_type": "code",
   "execution_count": 41,
   "metadata": {},
   "outputs": [
    {
     "name": "stderr",
     "output_type": "stream",
     "text": [
      "C:\\Users\\Nader\\anaconda3\\lib\\site-packages\\seaborn\\_decorators.py:36: FutureWarning: Pass the following variables as keyword args: x, y. From version 0.12, the only valid positional argument will be `data`, and passing other arguments without an explicit keyword will result in an error or misinterpretation.\n",
      "  warnings.warn(\n"
     ]
    },
    {
     "data": {
      "text/plain": [
       "(<AxesSubplot:xlabel='Month', ylabel='NumMosquitos'>,\n",
       " <AxesSubplot:xlabel='Month', ylabel='NumMosquitos'>)"
      ]
     },
     "execution_count": 41,
     "metadata": {},
     "output_type": "execute_result"
    },
    {
     "data": {
      "image/png": "[encoded data removed]",
      "text/plain": [
       "<Figure size 1440x216 with 1 Axes>"
      ]
     },
     "metadata": {
      "needs_background": "light"
     },
     "output_type": "display_data"
    }
   ],
   "source": [
    "plt.subplots(figsize=(20,3))\n",
    "plt.subplot(1,2,1),sns.barplot('Month','NumMosquitos',data=result,hue='WnvPresent')"
   ]
  },
  {
   "cell_type": "code",
   "execution_count": 42,
   "metadata": {},
   "outputs": [],
   "source": [
    "result = result.sort_values(by = 'Date')"
   ]
  },
  {
   "cell_type": "code",
   "execution_count": 43,
   "metadata": {},
   "outputs": [
    {
     "data": {
      "text/plain": [
       "35       0.00\n",
       "13       0.00\n",
       "25       0.00\n",
       "33       0.00\n",
       "19       0.00\n",
       "         ... \n",
       "21004    0.00\n",
       "20919    0.00\n",
       "21001    0.00\n",
       "20923    0.00\n",
       "20848    0.00\n",
       "Name: PrecipTotal, Length: 4616, dtype: object"
      ]
     },
     "execution_count": 43,
     "metadata": {},
     "output_type": "execute_result"
    }
   ],
   "source": [
    "result['PrecipTotal']"
   ]
  },
  {
   "cell_type": "code",
   "execution_count": 44,
   "metadata": {},
   "outputs": [
    {
     "data": {
      "text/plain": [
       "<matplotlib.collections.PathCollection at 0x1ef3fa33b80>"
      ]
     },
     "execution_count": 44,
     "metadata": {},
     "output_type": "execute_result"
    },
    {
     "data": {
      "image/png": "[encoded data removed]",
      "text/plain": [
       "<Figure size 432x288 with 1 Axes>"
      ]
     },
     "metadata": {
      "needs_background": "light"
     },
     "output_type": "display_data"
    }
   ],
   "source": [
    "plt.scatter(result['WnvPresent'], (result['Species']))"
   ]
  },
  {
   "cell_type": "code",
   "execution_count": 45,
   "metadata": {},
   "outputs": [
    {
     "data": {
      "image/png": "[encoded data removed]",
      "text/plain": [
       "<Figure size 864x864 with 1 Axes>"
      ]
     },
     "metadata": {},
     "output_type": "display_data"
    }
   ],
   "source": [
    "sns.set(font_scale=1)\n",
    "plt.figure(figsize=(12,12))\n",
    "sns.countplot(x='Species', hue='WnvPresent', data=train)\n",
    "plt.xticks(rotation=-10)\n",
    "plt.legend(['West Nile Virus not present', 'West Nile Virus present'], loc=1)\n",
    "plt.ylabel('Number of Traps with Species')\n",
    "plt.show()"
   ]
  },
  {
   "cell_type": "code",
   "execution_count": 46,
   "metadata": {},
   "outputs": [
    {
     "data": {
      "text/plain": [
       "(4616, 35)"
      ]
     },
     "execution_count": 46,
     "metadata": {},
     "output_type": "execute_result"
    }
   ],
   "source": [
    "result.shape"
   ]
  },
  {
   "cell_type": "code",
   "execution_count": 47,
   "metadata": {},
   "outputs": [],
   "source": [
    "#features2 = [i for i in result.columns if i not in ['LatDif', 'LonDif', 'CoorAvg', 'Weekday', 'LongitudeW', 'LatitudeW', 'Latitude', 'Longitude']]"
   ]
  },
  {
   "cell_type": "code",
   "execution_count": 49,
   "metadata": {},
   "outputs": [],
   "source": [
    "#plt.scatter(features2, result.WnvPresent)"
   ]
  },
  {
   "cell_type": "code",
   "execution_count": 50,
   "metadata": {},
   "outputs": [],
   "source": [
    "result['TMaxShift'] = result['Tmax'].shift(1)\n",
    "result['TMinShift'] = result['Tmin'].shift(1)"
   ]
  },
  {
   "cell_type": "code",
   "execution_count": 51,
   "metadata": {},
   "outputs": [
    {
     "data": {
      "text/html": [
       "<div>\n",
       "<style scoped>\n",
       "    .dataframe tbody tr th:only-of-type {\n",
       "        vertical-align: middle;\n",
       "    }\n",
       "\n",
       "    .dataframe tbody tr th {\n",
       "        vertical-align: top;\n",
       "    }\n",
       "\n",
       "    .dataframe thead th {\n",
       "        text-align: right;\n",
       "    }\n",
       "</style>\n",
       "<table border=\"1\" class=\"dataframe\">\n",
       "  <thead>\n",
       "    <tr style=\"text-align: right;\">\n",
       "      <th></th>\n",
       "      <th>Date</th>\n",
       "      <th>Address</th>\n",
       "      <th>Species</th>\n",
       "      <th>Block</th>\n",
       "      <th>Street</th>\n",
       "      <th>Trap</th>\n",
       "      <th>AddressNumberAndStreet</th>\n",
       "      <th>Latitude</th>\n",
       "      <th>Longitude</th>\n",
       "      <th>AddressAccuracy</th>\n",
       "      <th>...</th>\n",
       "      <th>AvgSpeed</th>\n",
       "      <th>LatitudeW</th>\n",
       "      <th>LongitudeW</th>\n",
       "      <th>LatDif</th>\n",
       "      <th>LonDif</th>\n",
       "      <th>CoorAvg</th>\n",
       "      <th>Weekday</th>\n",
       "      <th>Month</th>\n",
       "      <th>TMaxShift</th>\n",
       "      <th>TMinShift</th>\n",
       "    </tr>\n",
       "  </thead>\n",
       "  <tbody>\n",
       "    <tr>\n",
       "      <th>35</th>\n",
       "      <td>2007-05-29</td>\n",
       "      <td>2200 West 89th Street, Chicago, IL 60643, USA</td>\n",
       "      <td>CULEX RESTUANS</td>\n",
       "      <td>22</td>\n",
       "      <td>W 89TH ST</td>\n",
       "      <td>T096</td>\n",
       "      <td>2200  W 89TH ST, Chicago, IL</td>\n",
       "      <td>41.731922</td>\n",
       "      <td>-87.677512</td>\n",
       "      <td>8</td>\n",
       "      <td>...</td>\n",
       "      <td>7.4</td>\n",
       "      <td>41.786</td>\n",
       "      <td>-87.752</td>\n",
       "      <td>0.054078</td>\n",
       "      <td>0.074488</td>\n",
       "      <td>0.064283</td>\n",
       "      <td>1</td>\n",
       "      <td>5</td>\n",
       "      <td>NaN</td>\n",
       "      <td>NaN</td>\n",
       "    </tr>\n",
       "    <tr>\n",
       "      <th>13</th>\n",
       "      <td>2007-05-29</td>\n",
       "      <td>2500 West Grand Avenue, Chicago, IL 60654, USA</td>\n",
       "      <td>CULEX RESTUANS</td>\n",
       "      <td>25</td>\n",
       "      <td>W GRAND AVE</td>\n",
       "      <td>T046</td>\n",
       "      <td>2500  W GRAND AVE, Chicago, IL</td>\n",
       "      <td>41.891118</td>\n",
       "      <td>-87.654491</td>\n",
       "      <td>8</td>\n",
       "      <td>...</td>\n",
       "      <td>7.4</td>\n",
       "      <td>41.786</td>\n",
       "      <td>-87.752</td>\n",
       "      <td>0.105118</td>\n",
       "      <td>0.097509</td>\n",
       "      <td>0.101313</td>\n",
       "      <td>1</td>\n",
       "      <td>5</td>\n",
       "      <td>88.0</td>\n",
       "      <td>65.0</td>\n",
       "    </tr>\n",
       "    <tr>\n",
       "      <th>25</th>\n",
       "      <td>2007-05-29</td>\n",
       "      <td>2200 North Cannon Drive, Chicago, IL 60614, USA</td>\n",
       "      <td>CULEX RESTUANS</td>\n",
       "      <td>22</td>\n",
       "      <td>N CANNON DR</td>\n",
       "      <td>T054</td>\n",
       "      <td>2200  N CANNON DR, Chicago, IL</td>\n",
       "      <td>41.921965</td>\n",
       "      <td>-87.632085</td>\n",
       "      <td>8</td>\n",
       "      <td>...</td>\n",
       "      <td>7.4</td>\n",
       "      <td>41.786</td>\n",
       "      <td>-87.752</td>\n",
       "      <td>0.135965</td>\n",
       "      <td>0.119915</td>\n",
       "      <td>0.127940</td>\n",
       "      <td>1</td>\n",
       "      <td>5</td>\n",
       "      <td>88.0</td>\n",
       "      <td>65.0</td>\n",
       "    </tr>\n",
       "    <tr>\n",
       "      <th>33</th>\n",
       "      <td>2007-05-29</td>\n",
       "      <td>1700 West 95th Street, Chicago, IL 60643, USA</td>\n",
       "      <td>CULEX RESTUANS</td>\n",
       "      <td>17</td>\n",
       "      <td>W 95TH ST</td>\n",
       "      <td>T094</td>\n",
       "      <td>1700  W 95TH ST, Chicago, IL</td>\n",
       "      <td>41.720848</td>\n",
       "      <td>-87.666014</td>\n",
       "      <td>9</td>\n",
       "      <td>...</td>\n",
       "      <td>7.4</td>\n",
       "      <td>41.786</td>\n",
       "      <td>-87.752</td>\n",
       "      <td>0.065152</td>\n",
       "      <td>0.085986</td>\n",
       "      <td>0.075569</td>\n",
       "      <td>1</td>\n",
       "      <td>5</td>\n",
       "      <td>88.0</td>\n",
       "      <td>65.0</td>\n",
       "    </tr>\n",
       "    <tr>\n",
       "      <th>19</th>\n",
       "      <td>2007-05-29</td>\n",
       "      <td>1100 West Chicago Avenue, Chicago, IL 60642, USA</td>\n",
       "      <td>CULEX RESTUANS</td>\n",
       "      <td>11</td>\n",
       "      <td>W CHICAGO</td>\n",
       "      <td>T049</td>\n",
       "      <td>1100  W CHICAGO, Chicago, IL</td>\n",
       "      <td>41.896282</td>\n",
       "      <td>-87.655232</td>\n",
       "      <td>8</td>\n",
       "      <td>...</td>\n",
       "      <td>7.4</td>\n",
       "      <td>41.786</td>\n",
       "      <td>-87.752</td>\n",
       "      <td>0.110282</td>\n",
       "      <td>0.096768</td>\n",
       "      <td>0.103525</td>\n",
       "      <td>1</td>\n",
       "      <td>5</td>\n",
       "      <td>88.0</td>\n",
       "      <td>65.0</td>\n",
       "    </tr>\n",
       "    <tr>\n",
       "      <th>...</th>\n",
       "      <td>...</td>\n",
       "      <td>...</td>\n",
       "      <td>...</td>\n",
       "      <td>...</td>\n",
       "      <td>...</td>\n",
       "      <td>...</td>\n",
       "      <td>...</td>\n",
       "      <td>...</td>\n",
       "      <td>...</td>\n",
       "      <td>...</td>\n",
       "      <td>...</td>\n",
       "      <td>...</td>\n",
       "      <td>...</td>\n",
       "      <td>...</td>\n",
       "      <td>...</td>\n",
       "      <td>...</td>\n",
       "      <td>...</td>\n",
       "      <td>...</td>\n",
       "      <td>...</td>\n",
       "      <td>...</td>\n",
       "      <td>...</td>\n",
       "    </tr>\n",
       "    <tr>\n",
       "      <th>21004</th>\n",
       "      <td>2013-09-26</td>\n",
       "      <td>5800 North Ridge Avenue, Chicago, IL 60660, USA</td>\n",
       "      <td>CULEX PIPIENS/RESTUANS</td>\n",
       "      <td>58</td>\n",
       "      <td>N RIDGE AVE</td>\n",
       "      <td>T231</td>\n",
       "      <td>5800  N RIDGE AVE, Chicago, IL</td>\n",
       "      <td>41.987280</td>\n",
       "      <td>-87.666066</td>\n",
       "      <td>8</td>\n",
       "      <td>...</td>\n",
       "      <td>4.2</td>\n",
       "      <td>41.995</td>\n",
       "      <td>-87.933</td>\n",
       "      <td>0.007720</td>\n",
       "      <td>0.266934</td>\n",
       "      <td>0.137327</td>\n",
       "      <td>3</td>\n",
       "      <td>9</td>\n",
       "      <td>75.0</td>\n",
       "      <td>55.0</td>\n",
       "    </tr>\n",
       "    <tr>\n",
       "      <th>20919</th>\n",
       "      <td>2013-09-26</td>\n",
       "      <td>7900 South South Chicago Avenue, Chicago, IL 6...</td>\n",
       "      <td>CULEX PIPIENS/RESTUANS</td>\n",
       "      <td>79</td>\n",
       "      <td>S CHICAGO AVE</td>\n",
       "      <td>T083</td>\n",
       "      <td>7900  S CHICAGO AVE, Chicago, IL</td>\n",
       "      <td>41.754292</td>\n",
       "      <td>-87.590773</td>\n",
       "      <td>9</td>\n",
       "      <td>...</td>\n",
       "      <td>4.6</td>\n",
       "      <td>41.786</td>\n",
       "      <td>-87.752</td>\n",
       "      <td>0.031708</td>\n",
       "      <td>0.161227</td>\n",
       "      <td>0.096467</td>\n",
       "      <td>3</td>\n",
       "      <td>9</td>\n",
       "      <td>75.0</td>\n",
       "      <td>50.0</td>\n",
       "    </tr>\n",
       "    <tr>\n",
       "      <th>21001</th>\n",
       "      <td>2013-09-26</td>\n",
       "      <td>3900 North Springfield Avenue, Chicago, IL 606...</td>\n",
       "      <td>CULEX PIPIENS/RESTUANS</td>\n",
       "      <td>39</td>\n",
       "      <td>N SPRINGFIELD AVE</td>\n",
       "      <td>T228</td>\n",
       "      <td>3900  N SPRINGFIELD AVE, Chicago, IL</td>\n",
       "      <td>41.951866</td>\n",
       "      <td>-87.725057</td>\n",
       "      <td>8</td>\n",
       "      <td>...</td>\n",
       "      <td>4.6</td>\n",
       "      <td>41.786</td>\n",
       "      <td>-87.752</td>\n",
       "      <td>0.165866</td>\n",
       "      <td>0.026943</td>\n",
       "      <td>0.096404</td>\n",
       "      <td>3</td>\n",
       "      <td>9</td>\n",
       "      <td>75.0</td>\n",
       "      <td>55.0</td>\n",
       "    </tr>\n",
       "    <tr>\n",
       "      <th>20923</th>\n",
       "      <td>2013-09-26</td>\n",
       "      <td>5200 South Kolmar Avenue, Chicago, IL 60632, USA</td>\n",
       "      <td>CULEX PIPIENS</td>\n",
       "      <td>52</td>\n",
       "      <td>S KOLMAR</td>\n",
       "      <td>T114</td>\n",
       "      <td>5200  S KOLMAR, Chicago, IL</td>\n",
       "      <td>41.798697</td>\n",
       "      <td>-87.736812</td>\n",
       "      <td>8</td>\n",
       "      <td>...</td>\n",
       "      <td>4.6</td>\n",
       "      <td>41.786</td>\n",
       "      <td>-87.752</td>\n",
       "      <td>0.012697</td>\n",
       "      <td>0.015188</td>\n",
       "      <td>0.013942</td>\n",
       "      <td>3</td>\n",
       "      <td>9</td>\n",
       "      <td>75.0</td>\n",
       "      <td>55.0</td>\n",
       "    </tr>\n",
       "    <tr>\n",
       "      <th>20848</th>\n",
       "      <td>2013-09-26</td>\n",
       "      <td>3600 North Pittsburgh Avenue, Chicago, IL 6063...</td>\n",
       "      <td>CULEX PIPIENS/RESTUANS</td>\n",
       "      <td>36</td>\n",
       "      <td>N PITTSBURGH AVE</td>\n",
       "      <td>T011</td>\n",
       "      <td>3600  N PITTSBURGH AVE, Chicago, IL</td>\n",
       "      <td>41.944869</td>\n",
       "      <td>-87.832763</td>\n",
       "      <td>8</td>\n",
       "      <td>...</td>\n",
       "      <td>4.2</td>\n",
       "      <td>41.995</td>\n",
       "      <td>-87.933</td>\n",
       "      <td>0.050131</td>\n",
       "      <td>0.100237</td>\n",
       "      <td>0.075184</td>\n",
       "      <td>3</td>\n",
       "      <td>9</td>\n",
       "      <td>75.0</td>\n",
       "      <td>55.0</td>\n",
       "    </tr>\n",
       "  </tbody>\n",
       "</table>\n",
       "<p>4616 rows × 37 columns</p>\n",
       "</div>"
      ],
      "text/plain": [
       "            Date                                            Address  \\\n",
       "35    2007-05-29      2200 West 89th Street, Chicago, IL 60643, USA   \n",
       "13    2007-05-29     2500 West Grand Avenue, Chicago, IL 60654, USA   \n",
       "25    2007-05-29    2200 North Cannon Drive, Chicago, IL 60614, USA   \n",
       "33    2007-05-29      1700 West 95th Street, Chicago, IL 60643, USA   \n",
       "19    2007-05-29   1100 West Chicago Avenue, Chicago, IL 60642, USA   \n",
       "...          ...                                                ...   \n",
       "21004 2013-09-26    5800 North Ridge Avenue, Chicago, IL 60660, USA   \n",
       "20919 2013-09-26  7900 South South Chicago Avenue, Chicago, IL 6...   \n",
       "21001 2013-09-26  3900 North Springfield Avenue, Chicago, IL 606...   \n",
       "20923 2013-09-26   5200 South Kolmar Avenue, Chicago, IL 60632, USA   \n",
       "20848 2013-09-26  3600 North Pittsburgh Avenue, Chicago, IL 6063...   \n",
       "\n",
       "                      Species  Block              Street  Trap  \\\n",
       "35             CULEX RESTUANS     22           W 89TH ST  T096   \n",
       "13             CULEX RESTUANS     25         W GRAND AVE  T046   \n",
       "25             CULEX RESTUANS     22         N CANNON DR  T054   \n",
       "33             CULEX RESTUANS     17           W 95TH ST  T094   \n",
       "19             CULEX RESTUANS     11           W CHICAGO  T049   \n",
       "...                       ...    ...                 ...   ...   \n",
       "21004  CULEX PIPIENS/RESTUANS     58         N RIDGE AVE  T231   \n",
       "20919  CULEX PIPIENS/RESTUANS     79       S CHICAGO AVE  T083   \n",
       "21001  CULEX PIPIENS/RESTUANS     39   N SPRINGFIELD AVE  T228   \n",
       "20923           CULEX PIPIENS     52            S KOLMAR  T114   \n",
       "20848  CULEX PIPIENS/RESTUANS     36    N PITTSBURGH AVE  T011   \n",
       "\n",
       "                     AddressNumberAndStreet   Latitude  Longitude  \\\n",
       "35             2200  W 89TH ST, Chicago, IL  41.731922 -87.677512   \n",
       "13           2500  W GRAND AVE, Chicago, IL  41.891118 -87.654491   \n",
       "25           2200  N CANNON DR, Chicago, IL  41.921965 -87.632085   \n",
       "33             1700  W 95TH ST, Chicago, IL  41.720848 -87.666014   \n",
       "19             1100  W CHICAGO, Chicago, IL  41.896282 -87.655232   \n",
       "...                                     ...        ...        ...   \n",
       "21004        5800  N RIDGE AVE, Chicago, IL  41.987280 -87.666066   \n",
       "20919      7900  S CHICAGO AVE, Chicago, IL  41.754292 -87.590773   \n",
       "21001  3900  N SPRINGFIELD AVE, Chicago, IL  41.951866 -87.725057   \n",
       "20923           5200  S KOLMAR, Chicago, IL  41.798697 -87.736812   \n",
       "20848   3600  N PITTSBURGH AVE, Chicago, IL  41.944869 -87.832763   \n",
       "\n",
       "       AddressAccuracy  ...  AvgSpeed  LatitudeW  LongitudeW    LatDif  \\\n",
       "35                   8  ...       7.4     41.786     -87.752  0.054078   \n",
       "13                   8  ...       7.4     41.786     -87.752  0.105118   \n",
       "25                   8  ...       7.4     41.786     -87.752  0.135965   \n",
       "33                   9  ...       7.4     41.786     -87.752  0.065152   \n",
       "19                   8  ...       7.4     41.786     -87.752  0.110282   \n",
       "...                ...  ...       ...        ...         ...       ...   \n",
       "21004                8  ...       4.2     41.995     -87.933  0.007720   \n",
       "20919                9  ...       4.6     41.786     -87.752  0.031708   \n",
       "21001                8  ...       4.6     41.786     -87.752  0.165866   \n",
       "20923                8  ...       4.6     41.786     -87.752  0.012697   \n",
       "20848                8  ...       4.2     41.995     -87.933  0.050131   \n",
       "\n",
       "         LonDif   CoorAvg  Weekday Month TMaxShift TMinShift  \n",
       "35     0.074488  0.064283        1     5       NaN       NaN  \n",
       "13     0.097509  0.101313        1     5      88.0      65.0  \n",
       "25     0.119915  0.127940        1     5      88.0      65.0  \n",
       "33     0.085986  0.075569        1     5      88.0      65.0  \n",
       "19     0.096768  0.103525        1     5      88.0      65.0  \n",
       "...         ...       ...      ...   ...       ...       ...  \n",
       "21004  0.266934  0.137327        3     9      75.0      55.0  \n",
       "20919  0.161227  0.096467        3     9      75.0      50.0  \n",
       "21001  0.026943  0.096404        3     9      75.0      55.0  \n",
       "20923  0.015188  0.013942        3     9      75.0      55.0  \n",
       "20848  0.100237  0.075184        3     9      75.0      55.0  \n",
       "\n",
       "[4616 rows x 37 columns]"
      ]
     },
     "execution_count": 51,
     "metadata": {},
     "output_type": "execute_result"
    }
   ],
   "source": [
    "result"
   ]
  },
  {
   "cell_type": "code",
   "execution_count": 52,
   "metadata": {},
   "outputs": [
    {
     "data": {
      "text/plain": [
       "35       0.00\n",
       "13       0.00\n",
       "25       0.00\n",
       "33       0.00\n",
       "19       0.00\n",
       "         ... \n",
       "21004    0.00\n",
       "20919    0.00\n",
       "21001    0.00\n",
       "20923    0.00\n",
       "20848    0.00\n",
       "Name: PrecipTotal, Length: 4616, dtype: object"
      ]
     },
     "execution_count": 52,
     "metadata": {},
     "output_type": "execute_result"
    }
   ],
   "source": [
    "result['PrecipTotal'].replace('  T', 0.0, inplace=True)\n",
    "result['PrecipTotal']"
   ]
  },
  {
   "cell_type": "code",
   "execution_count": 53,
   "metadata": {},
   "outputs": [],
   "source": [
    "result['PrecipTotal'] = pd.to_numeric(result['PrecipTotal'])"
   ]
  },
  {
   "cell_type": "code",
   "execution_count": 54,
   "metadata": {},
   "outputs": [
    {
     "data": {
      "image/png": "[encoded data removed]",
      "text/plain": [
       "<Figure size 1008x1008 with 2 Axes>"
      ]
     },
     "metadata": {},
     "output_type": "display_data"
    }
   ],
   "source": [
    "plt.subplots(figsize=(14,14))\n",
    "\n",
    "corr = result.corr(method='pearson')\n",
    "#sns.heatmap(dfweather_station[weather_features].corr());\n",
    "ax = sns.heatmap(corr, annot=True,annot_kws={'size':10}, fmt=\".2f\")\n",
    "plt.savefig('heatmap.png',dpi=600)"
   ]
  },
  {
   "cell_type": "code",
   "execution_count": 55,
   "metadata": {},
   "outputs": [],
   "source": [
    "columns_to_drop=['Date','Address', 'Street','Trap','Sunrise','Sunset','AddressNumberAndStreet', 'Tmax', 'Tmin', 'AvgSpeed', 'SeaLevel', 'StnPressure']\n",
    "result['Tavg'] = pd.to_numeric(result['Tavg'])"
   ]
  },
  {
   "cell_type": "code",
   "execution_count": 56,
   "metadata": {},
   "outputs": [],
   "source": [
    "result=result.drop(columns=columns_to_drop)"
   ]
  },
  {
   "cell_type": "code",
   "execution_count": 57,
   "metadata": {},
   "outputs": [],
   "source": [
    "result['Tavg'] = result['Tavg'].astype('str').astype('int')\n",
    "result['Heat'] = result['Heat'].astype('str').astype('int')\n",
    "result['Cool'] = result['Cool'].astype('str').astype('int')\n",
    "result['WetBulb'] = result['WetBulb'].astype('str').astype('int')"
   ]
  },
  {
   "cell_type": "code",
   "execution_count": 58,
   "metadata": {},
   "outputs": [],
   "source": [
    "result.to_csv(r'C:\\Users\\Nader\\Desktop\\Coding Stuff\\CleanedWNV.csv', index = False)"
   ]
  },
  {
   "cell_type": "code",
   "execution_count": 59,
   "metadata": {},
   "outputs": [],
   "source": [
    "from sklearn.preprocessing import OneHotEncoder\n",
    "df_encoded =pd.get_dummies(result, columns=['Species','Month'])"
   ]
  },
  {
   "cell_type": "code",
   "execution_count": 60,
   "metadata": {},
   "outputs": [
    {
     "data": {
      "text/plain": [
       "Index(['Block', 'Latitude', 'Longitude', 'AddressAccuracy', 'NumMosquitos',\n",
       "       'WnvPresent', 'Station', 'Tavg', 'DewPoint', 'WetBulb', 'Heat', 'Cool',\n",
       "       'PrecipTotal', 'ResultSpeed', 'ResultDir', 'LatitudeW', 'LongitudeW',\n",
       "       'LatDif', 'LonDif', 'CoorAvg', 'Weekday', 'TMaxShift', 'TMinShift',\n",
       "       'Species_CULEX PIPIENS', 'Species_CULEX PIPIENS/RESTUANS', 'Month_5',\n",
       "       'Month_7', 'Month_8', 'Month_9', 'Month_10'],\n",
       "      dtype='object')"
      ]
     },
     "execution_count": 60,
     "metadata": {},
     "output_type": "execute_result"
    }
   ],
   "source": [
    "columns_to_drop=['Species_CULEX TERRITANS','Species_CULEX SALINARIUS', 'Species_CULEX TARSALIS','Species_CULEX RESTUANS','Month_6' ]\n",
    "df_encoded=df_encoded.drop(columns=columns_to_drop)\n",
    "df_encoded.columns"
   ]
  },
  {
   "cell_type": "code",
   "execution_count": 61,
   "metadata": {},
   "outputs": [],
   "source": [
    "df_encoded=df_encoded.dropna()"
   ]
  },
  {
   "cell_type": "markdown",
   "metadata": {},
   "source": [
    "# Pre-Processing and Training Data"
   ]
  },
  {
   "cell_type": "code",
   "execution_count": 62,
   "metadata": {},
   "outputs": [],
   "source": [
    "X_train, X_test, y_train, y_test = train_test_split(df_encoded.drop(columns='WnvPresent'), \n",
    "                                                    df_encoded.WnvPresent, test_size=0.3, \n",
    "                                                    random_state=47)"
   ]
  },
  {
   "cell_type": "code",
   "execution_count": 63,
   "metadata": {},
   "outputs": [
    {
     "data": {
      "text/plain": [
       "0    3092\n",
       "1     138\n",
       "Name: WnvPresent, dtype: int64"
      ]
     },
     "execution_count": 63,
     "metadata": {},
     "output_type": "execute_result"
    }
   ],
   "source": [
    "y_train.value_counts()"
   ]
  },
  {
   "cell_type": "code",
   "execution_count": 64,
   "metadata": {},
   "outputs": [
    {
     "name": "stdout",
     "output_type": "stream",
     "text": [
      "<class 'pandas.core.frame.DataFrame'>\n",
      "Int64Index: 3230 entries, 10429 to 9661\n",
      "Data columns (total 29 columns):\n",
      " #   Column                          Non-Null Count  Dtype  \n",
      "---  ------                          --------------  -----  \n",
      " 0   Block                           3230 non-null   int64  \n",
      " 1   Latitude                        3230 non-null   float64\n",
      " 2   Longitude                       3230 non-null   float64\n",
      " 3   AddressAccuracy                 3230 non-null   int64  \n",
      " 4   NumMosquitos                    3230 non-null   int64  \n",
      " 5   Station                         3230 non-null   int64  \n",
      " 6   Tavg                            3230 non-null   int32  \n",
      " 7   DewPoint                        3230 non-null   int64  \n",
      " 8   WetBulb                         3230 non-null   int32  \n",
      " 9   Heat                            3230 non-null   int32  \n",
      " 10  Cool                            3230 non-null   int32  \n",
      " 11  PrecipTotal                     3230 non-null   float64\n",
      " 12  ResultSpeed                     3230 non-null   float64\n",
      " 13  ResultDir                       3230 non-null   int64  \n",
      " 14  LatitudeW                       3230 non-null   float64\n",
      " 15  LongitudeW                      3230 non-null   float64\n",
      " 16  LatDif                          3230 non-null   float64\n",
      " 17  LonDif                          3230 non-null   float64\n",
      " 18  CoorAvg                         3230 non-null   float64\n",
      " 19  Weekday                         3230 non-null   int64  \n",
      " 20  TMaxShift                       3230 non-null   float64\n",
      " 21  TMinShift                       3230 non-null   float64\n",
      " 22  Species_CULEX PIPIENS           3230 non-null   uint8  \n",
      " 23  Species_CULEX PIPIENS/RESTUANS  3230 non-null   uint8  \n",
      " 24  Month_5                         3230 non-null   uint8  \n",
      " 25  Month_7                         3230 non-null   uint8  \n",
      " 26  Month_8                         3230 non-null   uint8  \n",
      " 27  Month_9                         3230 non-null   uint8  \n",
      " 28  Month_10                        3230 non-null   uint8  \n",
      "dtypes: float64(11), int32(4), int64(7), uint8(7)\n",
      "memory usage: 552.0 KB\n"
     ]
    }
   ],
   "source": [
    "X_train.info()"
   ]
  },
  {
   "cell_type": "markdown",
   "metadata": {},
   "source": [
    "# Information Value (IV) Technique"
   ]
  },
  {
   "cell_type": "code",
   "execution_count": 65,
   "metadata": {},
   "outputs": [],
   "source": [
    "import pandas.core.algorithms as algos\n",
    "import scipy.stats.stats as stats\n",
    "import re\n",
    "import traceback\n",
    "import string\n",
    "\n",
    "max_bin = 20\n",
    "force_bin = 3\n",
    "\n",
    "# define a binning function\n",
    "def mono_bin(Y, X, n = max_bin):\n",
    "    \n",
    "    df1 = pd.DataFrame({\"X\": X, \"Y\": Y})\n",
    "    justmiss = df1[['X','Y']][df1.X.isnull()]\n",
    "    notmiss = df1[['X','Y']][df1.X.notnull()]\n",
    "    r = 0\n",
    "    while np.abs(r) < 1:\n",
    "        try:\n",
    "            d1 = pd.DataFrame({\"X\": notmiss.X, \"Y\": notmiss.Y, \"Bucket\": pd.qcut(notmiss.X, n)})\n",
    "            d2 = d1.groupby('Bucket', as_index=True)\n",
    "            r, p = stats.spearmanr(d2.mean().X, d2.mean().Y)\n",
    "            n = n - 1 \n",
    "        except Exception as e:\n",
    "            n = n - 1\n",
    "\n",
    "    if len(d2) == 1:\n",
    "        n = force_bin         \n",
    "        bins = algos.quantile(notmiss.X, np.linspace(0, 1, n))\n",
    "        if len(np.unique(bins)) == 2:\n",
    "            bins = np.insert(bins, 0, 1)\n",
    "            bins[1] = bins[1]-(bins[1]/2)\n",
    "        d1 = pd.DataFrame({\"X\": notmiss.X, \"Y\": notmiss.Y, \"Bucket\": pd.cut(notmiss.X, np.unique(bins),include_lowest=True)}) \n",
    "        d2 = d1.groupby('Bucket', as_index=True)\n",
    "    \n",
    "    d3 = pd.DataFrame({},index=[])\n",
    "    d3[\"MIN_VALUE\"] = d2.min().X\n",
    "    d3[\"MAX_VALUE\"] = d2.max().X\n",
    "    d3[\"COUNT\"] = d2.count().Y\n",
    "    d3[\"EVENT\"] = d2.sum().Y\n",
    "    d3[\"NONEVENT\"] = d2.count().Y - d2.sum().Y\n",
    "    d3=d3.reset_index(drop=True)\n",
    "    \n",
    "    if len(justmiss.index) > 0:\n",
    "        d4 = pd.DataFrame({'MIN_VALUE':np.nan},index=[0])\n",
    "        d4[\"MAX_VALUE\"] = np.nan\n",
    "        d4[\"COUNT\"] = justmiss.count().Y\n",
    "        d4[\"EVENT\"] = justmiss.sum().Y\n",
    "        d4[\"NONEVENT\"] = justmiss.count().Y - justmiss.sum().Y\n",
    "        d3 = d3.append(d4,ignore_index=True)\n",
    "    \n",
    "    d3[\"EVENT_RATE\"] = d3.EVENT/d3.COUNT\n",
    "    d3[\"NON_EVENT_RATE\"] = d3.NONEVENT/d3.COUNT\n",
    "    d3[\"DIST_EVENT\"] = d3.EVENT/d3.sum().EVENT\n",
    "    d3[\"DIST_NON_EVENT\"] = d3.NONEVENT/d3.sum().NONEVENT\n",
    "    d3[\"WOE\"] = np.log(d3.DIST_EVENT/d3.DIST_NON_EVENT)\n",
    "    d3[\"IV\"] = (d3.DIST_EVENT-d3.DIST_NON_EVENT)*np.log(d3.DIST_EVENT/d3.DIST_NON_EVENT)\n",
    "    d3[\"VAR_NAME\"] = \"VAR\"\n",
    "    d3 = d3[['VAR_NAME','MIN_VALUE', 'MAX_VALUE', 'COUNT', 'EVENT', 'EVENT_RATE', 'NONEVENT', 'NON_EVENT_RATE', 'DIST_EVENT','DIST_NON_EVENT','WOE', 'IV']]       \n",
    "    d3 = d3.replace([np.inf, -np.inf], 0)\n",
    "    d3.IV = d3.IV.sum()\n",
    "    \n",
    "    return(d3)\n",
    "\n",
    "def char_bin(Y, X):\n",
    "        \n",
    "    df1 = pd.DataFrame({\"X\": X, \"Y\": Y})\n",
    "    justmiss = df1[['X','Y']][df1.X.isnull()]\n",
    "    notmiss = df1[['X','Y']][df1.X.notnull()]    \n",
    "    df2 = notmiss.groupby('X',as_index=True)\n",
    "    \n",
    "    d3 = pd.DataFrame({},index=[])\n",
    "    d3[\"COUNT\"] = df2.count().Y\n",
    "    d3[\"MIN_VALUE\"] = df2.sum().Y.index\n",
    "    d3[\"MAX_VALUE\"] = d3[\"MIN_VALUE\"]\n",
    "    d3[\"EVENT\"] = df2.sum().Y\n",
    "    d3[\"NONEVENT\"] = df2.count().Y - df2.sum().Y\n",
    "    \n",
    "    if len(justmiss.index) > 0:\n",
    "        d4 = pd.DataFrame({'MIN_VALUE':np.nan},index=[0])\n",
    "        d4[\"MAX_VALUE\"] = np.nan\n",
    "        d4[\"COUNT\"] = justmiss.count().Y\n",
    "        d4[\"EVENT\"] = justmiss.sum().Y\n",
    "        d4[\"NONEVENT\"] = justmiss.count().Y - justmiss.sum().Y\n",
    "        d3 = d3.append(d4,ignore_index=True)\n",
    "    \n",
    "    d3[\"EVENT_RATE\"] = d3.EVENT/d3.COUNT\n",
    "    d3[\"NON_EVENT_RATE\"] = d3.NONEVENT/d3.COUNT\n",
    "    d3[\"DIST_EVENT\"] = d3.EVENT/d3.sum().EVENT\n",
    "    d3[\"DIST_NON_EVENT\"] = d3.NONEVENT/d3.sum().NONEVENT\n",
    "    d3[\"WOE\"] = np.log(d3.DIST_EVENT/d3.DIST_NON_EVENT)\n",
    "    d3[\"IV\"] = (d3.DIST_EVENT-d3.DIST_NON_EVENT)*np.log(d3.DIST_EVENT/d3.DIST_NON_EVENT)\n",
    "    d3[\"VAR_NAME\"] = \"VAR\"\n",
    "    d3 = d3[['VAR_NAME','MIN_VALUE', 'MAX_VALUE', 'COUNT', 'EVENT', 'EVENT_RATE', 'NONEVENT', 'NON_EVENT_RATE', 'DIST_EVENT','DIST_NON_EVENT','WOE', 'IV']]      \n",
    "    d3 = d3.replace([np.inf, -np.inf], 0)\n",
    "    d3.IV = d3.IV.sum()\n",
    "    d3 = d3.reset_index(drop=True)\n",
    "    \n",
    "    return(d3)\n",
    "\n",
    "def data_vars(df1, target):\n",
    "    \n",
    "    stack = traceback.extract_stack()\n",
    "    filename, lineno, function_name, code = stack[-2]\n",
    "    vars_name = re.compile(r'\\((.*?)\\).*$').search(code).groups()[0]\n",
    "    final = (re.findall(r\"[\\w']+\", vars_name))[-1]\n",
    "    \n",
    "    x = df1.dtypes.index\n",
    "    count = -1\n",
    "    \n",
    "    for i in x:\n",
    "        if i.upper() not in (final.upper()):\n",
    "            if np.issubdtype(df1[i], np.number) and len(pd.Series.unique(df1[i])) > 2:\n",
    "                conv = mono_bin(target, df1[i])\n",
    "                conv[\"VAR_NAME\"] = i\n",
    "                count = count + 1\n",
    "            else:\n",
    "                conv = char_bin(target, df1[i])\n",
    "                conv[\"VAR_NAME\"] = i            \n",
    "                count = count + 1\n",
    "                \n",
    "            if count == 0:\n",
    "                iv_df = conv\n",
    "            else:\n",
    "                iv_df = iv_df.append(conv,ignore_index=True)\n",
    "    \n",
    "    iv = pd.DataFrame({'IV':iv_df.groupby('VAR_NAME').IV.max()})\n",
    "    iv = iv.reset_index()\n",
    "    return(iv_df,iv)"
   ]
  },
  {
   "cell_type": "code",
   "execution_count": 66,
   "metadata": {},
   "outputs": [
    {
     "name": "stdout",
     "output_type": "stream",
     "text": [
      "<class 'pandas.core.frame.DataFrame'>\n",
      "Int64Index: 3230 entries, 10429 to 9661\n",
      "Data columns (total 29 columns):\n",
      " #   Column                          Non-Null Count  Dtype  \n",
      "---  ------                          --------------  -----  \n",
      " 0   Block                           3230 non-null   int64  \n",
      " 1   Latitude                        3230 non-null   float64\n",
      " 2   Longitude                       3230 non-null   float64\n",
      " 3   AddressAccuracy                 3230 non-null   int64  \n",
      " 4   NumMosquitos                    3230 non-null   int64  \n",
      " 5   Station                         3230 non-null   int64  \n",
      " 6   Tavg                            3230 non-null   int32  \n",
      " 7   DewPoint                        3230 non-null   int64  \n",
      " 8   WetBulb                         3230 non-null   int32  \n",
      " 9   Heat                            3230 non-null   int32  \n",
      " 10  Cool                            3230 non-null   int32  \n",
      " 11  PrecipTotal                     3230 non-null   float64\n",
      " 12  ResultSpeed                     3230 non-null   float64\n",
      " 13  ResultDir                       3230 non-null   int64  \n",
      " 14  LatitudeW                       3230 non-null   float64\n",
      " 15  LongitudeW                      3230 non-null   float64\n",
      " 16  LatDif                          3230 non-null   float64\n",
      " 17  LonDif                          3230 non-null   float64\n",
      " 18  CoorAvg                         3230 non-null   float64\n",
      " 19  Weekday                         3230 non-null   int64  \n",
      " 20  TMaxShift                       3230 non-null   float64\n",
      " 21  TMinShift                       3230 non-null   float64\n",
      " 22  Species_CULEX PIPIENS           3230 non-null   uint8  \n",
      " 23  Species_CULEX PIPIENS/RESTUANS  3230 non-null   uint8  \n",
      " 24  Month_5                         3230 non-null   uint8  \n",
      " 25  Month_7                         3230 non-null   uint8  \n",
      " 26  Month_8                         3230 non-null   uint8  \n",
      " 27  Month_9                         3230 non-null   uint8  \n",
      " 28  Month_10                        3230 non-null   uint8  \n",
      "dtypes: float64(11), int32(4), int64(7), uint8(7)\n",
      "memory usage: 552.0 KB\n"
     ]
    }
   ],
   "source": [
    "X_train.info()"
   ]
  },
  {
   "cell_type": "code",
   "execution_count": 67,
   "metadata": {},
   "outputs": [
    {
     "name": "stderr",
     "output_type": "stream",
     "text": [
      "C:\\Users\\Nader\\anaconda3\\lib\\site-packages\\pandas\\core\\series.py:726: RuntimeWarning: divide by zero encountered in log\n",
      "  result = getattr(ufunc, method)(*inputs, **kwargs)\n"
     ]
    }
   ],
   "source": [
    "final_iv,IV = data_vars(X_train, y_train)"
   ]
  },
  {
   "cell_type": "code",
   "execution_count": 68,
   "metadata": {},
   "outputs": [],
   "source": [
    "features = list(IV[(IV['IV'] >= 0.01) & (IV['IV'] <= 0.8)]['VAR_NAME'])\n",
    "X2 = X_train[features]\n",
    "#display(X2.shape)\n",
    "#X2.head()"
   ]
  },
  {
   "cell_type": "code",
   "execution_count": 69,
   "metadata": {},
   "outputs": [
    {
     "name": "stdout",
     "output_type": "stream",
     "text": [
      "Iteration # 1\n",
      "Removing CoorAvg with VIF of inf\n",
      "Iteration # 2\n",
      "Removing LatitudeW with VIF of inf\n",
      "Iteration # 3\n",
      "Removing LongitudeW with VIF of 31787257.678839\n",
      "Iteration # 4\n"
     ]
    },
    {
     "name": "stderr",
     "output_type": "stream",
     "text": [
      "C:\\Users\\Nader\\anaconda3\\lib\\site-packages\\statsmodels\\stats\\outliers_influence.py:193: RuntimeWarning: divide by zero encountered in double_scalars\n",
      "  vif = 1. / (1. - r_squared_i)\n",
      "C:\\Users\\Nader\\anaconda3\\lib\\site-packages\\statsmodels\\stats\\outliers_influence.py:193: RuntimeWarning: divide by zero encountered in double_scalars\n",
      "  vif = 1. / (1. - r_squared_i)\n"
     ]
    },
    {
     "name": "stdout",
     "output_type": "stream",
     "text": [
      "Removing Longitude with VIF of 446412.623332\n",
      "Iteration # 5\n",
      "Removing WetBulb with VIF of 521.819015\n",
      "Iteration # 6\n",
      "Removing TMinShift with VIF of 400.416106\n",
      "Iteration # 7\n",
      "Removing Latitude with VIF of 168.688672\n",
      "Iteration # 8\n",
      "Removing DewPoint with VIF of 39.667907\n",
      "Iteration # 9\n",
      "Removing Station with VIF of 15.135946\n",
      "Iteration # 10\n",
      "Complete\n"
     ]
    }
   ],
   "source": [
    "import statsmodels.api as sm\n",
    "from statsmodels.stats.outliers_influence import variance_inflation_factor\n",
    "def iterate_vif(df, vif_threshold=5, max_vif=6):\n",
    "  count = 0\n",
    "  while max_vif > vif_threshold:\n",
    "    count += 1\n",
    "    print(\"Iteration # \"+str(count))\n",
    "    vif = pd.DataFrame()\n",
    "    vif[\"VIFactor\"] = [variance_inflation_factor(df.values, i) for i in range(df.shape[1])]\n",
    "    vif[\"features\"] = df.columns\n",
    "    \n",
    "    if vif['VIFactor'].max() > vif_threshold:\n",
    "      print('Removing %s with VIF of %f' % (vif[vif['VIFactor'] == vif['VIFactor'].max()]['features'].values[0], vif['VIFactor'].max()))\n",
    "      df = df.drop(vif[vif['VIFactor'] == vif['VIFactor'].max()]['features'].values[0], axis=1)\n",
    "      max_vif = vif['VIFactor'].max()\n",
    "    else:\n",
    "        print('Complete')\n",
    "        return df, vif.sort_values('VIFactor')\n",
    "\n",
    "X1 = X2._get_numeric_data()\n",
    "final_df, final_vif = iterate_vif(X1)\n"
   ]
  },
  {
   "cell_type": "code",
   "execution_count": 70,
   "metadata": {},
   "outputs": [
    {
     "data": {
      "text/html": [
       "<div>\n",
       "<style scoped>\n",
       "    .dataframe tbody tr th:only-of-type {\n",
       "        vertical-align: middle;\n",
       "    }\n",
       "\n",
       "    .dataframe tbody tr th {\n",
       "        vertical-align: top;\n",
       "    }\n",
       "\n",
       "    .dataframe thead th {\n",
       "        text-align: right;\n",
       "    }\n",
       "</style>\n",
       "<table border=\"1\" class=\"dataframe\">\n",
       "  <thead>\n",
       "    <tr style=\"text-align: right;\">\n",
       "      <th></th>\n",
       "      <th>VIFactor</th>\n",
       "      <th>features</th>\n",
       "    </tr>\n",
       "  </thead>\n",
       "  <tbody>\n",
       "    <tr>\n",
       "      <th>6</th>\n",
       "      <td>1.196342</td>\n",
       "      <td>PrecipTotal</td>\n",
       "    </tr>\n",
       "    <tr>\n",
       "      <th>1</th>\n",
       "      <td>1.297795</td>\n",
       "      <td>Heat</td>\n",
       "    </tr>\n",
       "    <tr>\n",
       "      <th>4</th>\n",
       "      <td>1.763403</td>\n",
       "      <td>Month_7</td>\n",
       "    </tr>\n",
       "    <tr>\n",
       "      <th>9</th>\n",
       "      <td>1.764719</td>\n",
       "      <td>Species_CULEX PIPIENS</td>\n",
       "    </tr>\n",
       "    <tr>\n",
       "      <th>5</th>\n",
       "      <td>1.889066</td>\n",
       "      <td>Month_8</td>\n",
       "    </tr>\n",
       "    <tr>\n",
       "      <th>2</th>\n",
       "      <td>2.605701</td>\n",
       "      <td>LatDif</td>\n",
       "    </tr>\n",
       "    <tr>\n",
       "      <th>10</th>\n",
       "      <td>2.728332</td>\n",
       "      <td>Species_CULEX PIPIENS/RESTUANS</td>\n",
       "    </tr>\n",
       "    <tr>\n",
       "      <th>3</th>\n",
       "      <td>2.966102</td>\n",
       "      <td>LonDif</td>\n",
       "    </tr>\n",
       "    <tr>\n",
       "      <th>0</th>\n",
       "      <td>3.457115</td>\n",
       "      <td>Block</td>\n",
       "    </tr>\n",
       "    <tr>\n",
       "      <th>11</th>\n",
       "      <td>3.961475</td>\n",
       "      <td>Weekday</td>\n",
       "    </tr>\n",
       "    <tr>\n",
       "      <th>7</th>\n",
       "      <td>4.814808</td>\n",
       "      <td>ResultDir</td>\n",
       "    </tr>\n",
       "    <tr>\n",
       "      <th>8</th>\n",
       "      <td>4.960067</td>\n",
       "      <td>ResultSpeed</td>\n",
       "    </tr>\n",
       "  </tbody>\n",
       "</table>\n",
       "</div>"
      ],
      "text/plain": [
       "    VIFactor                        features\n",
       "6   1.196342                     PrecipTotal\n",
       "1   1.297795                            Heat\n",
       "4   1.763403                         Month_7\n",
       "9   1.764719           Species_CULEX PIPIENS\n",
       "5   1.889066                         Month_8\n",
       "2   2.605701                          LatDif\n",
       "10  2.728332  Species_CULEX PIPIENS/RESTUANS\n",
       "3   2.966102                          LonDif\n",
       "0   3.457115                           Block\n",
       "11  3.961475                         Weekday\n",
       "7   4.814808                       ResultDir\n",
       "8   4.960067                     ResultSpeed"
      ]
     },
     "execution_count": 70,
     "metadata": {},
     "output_type": "execute_result"
    }
   ],
   "source": [
    "X_train=final_df\n",
    "#display(len(X_train.columns))\n",
    "#display(X_train.columns)\n",
    "#X_train.head()\n",
    "final_vif"
   ]
  },
  {
   "cell_type": "markdown",
   "metadata": {},
   "source": [
    "# DATA MODEL"
   ]
  },
  {
   "cell_type": "code",
   "execution_count": 71,
   "metadata": {},
   "outputs": [],
   "source": [
    "from sklearn.metrics import confusion_matrix\n",
    "from sklearn.metrics import classification_report\n",
    "import matplotlib.pyplot as plt\n",
    "from sklearn.metrics import roc_auc_score\n",
    "from sklearn.metrics import roc_curve\n",
    "from sklearn.ensemble import RandomForestClassifier"
   ]
  },
  {
   "cell_type": "code",
   "execution_count": 72,
   "metadata": {},
   "outputs": [
    {
     "data": {
      "text/html": [
       "<div>\n",
       "<style scoped>\n",
       "    .dataframe tbody tr th:only-of-type {\n",
       "        vertical-align: middle;\n",
       "    }\n",
       "\n",
       "    .dataframe tbody tr th {\n",
       "        vertical-align: top;\n",
       "    }\n",
       "\n",
       "    .dataframe thead th {\n",
       "        text-align: right;\n",
       "    }\n",
       "</style>\n",
       "<table border=\"1\" class=\"dataframe\">\n",
       "  <thead>\n",
       "    <tr style=\"text-align: right;\">\n",
       "      <th></th>\n",
       "      <th>Block</th>\n",
       "      <th>Heat</th>\n",
       "      <th>LatDif</th>\n",
       "      <th>LonDif</th>\n",
       "      <th>Month_7</th>\n",
       "      <th>Month_8</th>\n",
       "      <th>PrecipTotal</th>\n",
       "      <th>ResultDir</th>\n",
       "      <th>ResultSpeed</th>\n",
       "      <th>Species_CULEX PIPIENS</th>\n",
       "      <th>Species_CULEX PIPIENS/RESTUANS</th>\n",
       "      <th>Weekday</th>\n",
       "    </tr>\n",
       "  </thead>\n",
       "  <tbody>\n",
       "    <tr>\n",
       "      <th>16319</th>\n",
       "      <td>89</td>\n",
       "      <td>4</td>\n",
       "      <td>0.052357</td>\n",
       "      <td>0.196490</td>\n",
       "      <td>0</td>\n",
       "      <td>0</td>\n",
       "      <td>0.00</td>\n",
       "      <td>2</td>\n",
       "      <td>8.8</td>\n",
       "      <td>0</td>\n",
       "      <td>0</td>\n",
       "      <td>4</td>\n",
       "    </tr>\n",
       "    <tr>\n",
       "      <th>18465</th>\n",
       "      <td>45</td>\n",
       "      <td>0</td>\n",
       "      <td>0.177976</td>\n",
       "      <td>0.060190</td>\n",
       "      <td>0</td>\n",
       "      <td>1</td>\n",
       "      <td>0.00</td>\n",
       "      <td>29</td>\n",
       "      <td>6.2</td>\n",
       "      <td>1</td>\n",
       "      <td>0</td>\n",
       "      <td>3</td>\n",
       "    </tr>\n",
       "    <tr>\n",
       "      <th>5724</th>\n",
       "      <td>15</td>\n",
       "      <td>0</td>\n",
       "      <td>0.000531</td>\n",
       "      <td>0.265264</td>\n",
       "      <td>0</td>\n",
       "      <td>0</td>\n",
       "      <td>0.00</td>\n",
       "      <td>22</td>\n",
       "      <td>2.8</td>\n",
       "      <td>0</td>\n",
       "      <td>1</td>\n",
       "      <td>1</td>\n",
       "    </tr>\n",
       "    <tr>\n",
       "      <th>5061</th>\n",
       "      <td>11</td>\n",
       "      <td>0</td>\n",
       "      <td>0.081108</td>\n",
       "      <td>0.097776</td>\n",
       "      <td>0</td>\n",
       "      <td>1</td>\n",
       "      <td>0.20</td>\n",
       "      <td>25</td>\n",
       "      <td>5.5</td>\n",
       "      <td>1</td>\n",
       "      <td>0</td>\n",
       "      <td>4</td>\n",
       "    </tr>\n",
       "    <tr>\n",
       "      <th>935</th>\n",
       "      <td>50</td>\n",
       "      <td>0</td>\n",
       "      <td>0.015498</td>\n",
       "      <td>0.011416</td>\n",
       "      <td>1</td>\n",
       "      <td>0</td>\n",
       "      <td>0.92</td>\n",
       "      <td>24</td>\n",
       "      <td>10.3</td>\n",
       "      <td>0</td>\n",
       "      <td>1</td>\n",
       "      <td>2</td>\n",
       "    </tr>\n",
       "  </tbody>\n",
       "</table>\n",
       "</div>"
      ],
      "text/plain": [
       "       Block  Heat    LatDif    LonDif  Month_7  Month_8  PrecipTotal  \\\n",
       "16319     89     4  0.052357  0.196490        0        0         0.00   \n",
       "18465     45     0  0.177976  0.060190        0        1         0.00   \n",
       "5724      15     0  0.000531  0.265264        0        0         0.00   \n",
       "5061      11     0  0.081108  0.097776        0        1         0.20   \n",
       "935       50     0  0.015498  0.011416        1        0         0.92   \n",
       "\n",
       "       ResultDir  ResultSpeed  Species_CULEX PIPIENS  \\\n",
       "16319          2          8.8                      0   \n",
       "18465         29          6.2                      1   \n",
       "5724          22          2.8                      0   \n",
       "5061          25          5.5                      1   \n",
       "935           24         10.3                      0   \n",
       "\n",
       "       Species_CULEX PIPIENS/RESTUANS  Weekday  \n",
       "16319                               0        4  \n",
       "18465                               0        3  \n",
       "5724                                1        1  \n",
       "5061                                0        4  \n",
       "935                                 1        2  "
      ]
     },
     "execution_count": 72,
     "metadata": {},
     "output_type": "execute_result"
    }
   ],
   "source": [
    "X_test=X_test[X_train.columns]\n",
    "X_test.head()"
   ]
  },
  {
   "cell_type": "code",
   "execution_count": 73,
   "metadata": {},
   "outputs": [],
   "source": [
    "RF = RandomForestClassifier(n_estimators = 10, random_state = 42, max_depth=50, class_weight=dict({1:48, 0:1}), verbose=2)"
   ]
  },
  {
   "cell_type": "code",
   "execution_count": 74,
   "metadata": {},
   "outputs": [
    {
     "name": "stdout",
     "output_type": "stream",
     "text": [
      "building tree 1 of 10\n",
      "building tree 2 of 10\n",
      "building tree 3 of 10\n",
      "building tree 4 of 10\n",
      "building tree 5 of 10\n",
      "building tree 6 of 10\n",
      "building tree 7 of 10\n",
      "building tree 8 of 10\n",
      "building tree 9 of 10\n",
      "building tree 10 of 10\n"
     ]
    },
    {
     "name": "stderr",
     "output_type": "stream",
     "text": [
      "[Parallel(n_jobs=1)]: Using backend SequentialBackend with 1 concurrent workers.\n",
      "[Parallel(n_jobs=1)]: Done   1 out of   1 | elapsed:    0.0s remaining:    0.0s\n",
      "[Parallel(n_jobs=1)]: Done  10 out of  10 | elapsed:    0.0s finished\n",
      "[Parallel(n_jobs=1)]: Using backend SequentialBackend with 1 concurrent workers.\n",
      "[Parallel(n_jobs=1)]: Done   1 out of   1 | elapsed:    0.0s remaining:    0.0s\n",
      "[Parallel(n_jobs=1)]: Done  10 out of  10 | elapsed:    0.0s finished\n",
      "[Parallel(n_jobs=1)]: Using backend SequentialBackend with 1 concurrent workers.\n",
      "[Parallel(n_jobs=1)]: Done   1 out of   1 | elapsed:    0.0s remaining:    0.0s\n",
      "[Parallel(n_jobs=1)]: Done  10 out of  10 | elapsed:    0.0s finished\n"
     ]
    }
   ],
   "source": [
    "RF.fit(X_train, y_train)\n",
    "y_pred = RF.predict(X_test)\n",
    "\n",
    "y_pred_prob = RF.predict_proba(X_test)[:,1]"
   ]
  },
  {
   "cell_type": "code",
   "execution_count": 75,
   "metadata": {},
   "outputs": [
    {
     "data": {
      "text/plain": [
       "0.687955029468575"
      ]
     },
     "execution_count": 75,
     "metadata": {},
     "output_type": "execute_result"
    }
   ],
   "source": [
    "roc_value = roc_auc_score(y_test, y_pred_prob)\n",
    "roc_value"
   ]
  },
  {
   "cell_type": "code",
   "execution_count": 76,
   "metadata": {},
   "outputs": [
    {
     "data": {
      "image/png": "[encoded data removed]",
      "text/plain": [
       "<Figure size 432x288 with 1 Axes>"
      ]
     },
     "metadata": {},
     "output_type": "display_data"
    }
   ],
   "source": [
    "importances = RF.feature_importances_\n",
    "indices = np.argsort(importances)\n",
    "features = X_train.columns\n",
    "plt.title('Feature Importances')\n",
    "plt.barh(range(len(indices)), importances[indices], color='b', align='center')\n",
    "plt.yticks(range(len(indices)), [features[i] for i in indices])\n",
    "plt.xlabel('Relative Importance')\n",
    "plt.show()"
   ]
  },
  {
   "cell_type": "markdown",
   "metadata": {},
   "source": [
    "# XGBOOST"
   ]
  },
  {
   "cell_type": "code",
   "execution_count": 77,
   "metadata": {},
   "outputs": [
    {
     "name": "stdout",
     "output_type": "stream",
     "text": [
      "[11:39:58] WARNING: C:/Users/Administrator/workspace/xgboost-win64_release_1.4.0/src/learner.cc:573: \n",
      "Parameters: { \"silent\" } might not be used.\n",
      "\n",
      "  This may not be accurate due to some parameters are only used in language bindings but\n",
      "  passed down to XGBoost core.  Or some parameters are not used but slip through this\n",
      "  verification. Please open an issue if you find above cases.\n",
      "\n",
      "\n",
      "[0]\tvalidation_0-auc:0.67566\tvalidation_1-auc:0.72130\n",
      "[1]\tvalidation_0-auc:0.70564\tvalidation_1-auc:0.72552\n",
      "[2]\tvalidation_0-auc:0.70564\tvalidation_1-auc:0.72552\n",
      "[3]\tvalidation_0-auc:0.71557\tvalidation_1-auc:0.73100\n",
      "[4]\tvalidation_0-auc:0.71557\tvalidation_1-auc:0.73100\n",
      "[5]\tvalidation_0-auc:0.72270\tvalidation_1-auc:0.73780\n",
      "[6]\tvalidation_0-auc:0.72432\tvalidation_1-auc:0.74786\n",
      "[7]\tvalidation_0-auc:0.72654\tvalidation_1-auc:0.74471\n",
      "[8]\tvalidation_0-auc:0.73488\tvalidation_1-auc:0.74561\n",
      "[9]\tvalidation_0-auc:0.76284\tvalidation_1-auc:0.75482\n",
      "[10]\tvalidation_0-auc:0.76284\tvalidation_1-auc:0.75482\n",
      "[11]\tvalidation_0-auc:0.76124\tvalidation_1-auc:0.75326\n",
      "[12]\tvalidation_0-auc:0.76124\tvalidation_1-auc:0.75326\n",
      "[13]\tvalidation_0-auc:0.76945\tvalidation_1-auc:0.76382\n",
      "[14]\tvalidation_0-auc:0.76914\tvalidation_1-auc:0.76320\n",
      "[15]\tvalidation_0-auc:0.76833\tvalidation_1-auc:0.76420\n",
      "[16]\tvalidation_0-auc:0.76728\tvalidation_1-auc:0.76732\n",
      "[17]\tvalidation_0-auc:0.76776\tvalidation_1-auc:0.76604\n",
      "[18]\tvalidation_0-auc:0.76749\tvalidation_1-auc:0.76795\n",
      "[19]\tvalidation_0-auc:0.76688\tvalidation_1-auc:0.76857\n",
      "[20]\tvalidation_0-auc:0.77790\tvalidation_1-auc:0.77567\n",
      "[21]\tvalidation_0-auc:0.77781\tvalidation_1-auc:0.77580\n",
      "[22]\tvalidation_0-auc:0.77905\tvalidation_1-auc:0.77796\n",
      "[23]\tvalidation_0-auc:0.77890\tvalidation_1-auc:0.77745\n",
      "[24]\tvalidation_0-auc:0.77849\tvalidation_1-auc:0.77653\n",
      "[25]\tvalidation_0-auc:0.77916\tvalidation_1-auc:0.77492\n",
      "[26]\tvalidation_0-auc:0.77701\tvalidation_1-auc:0.77635\n",
      "[27]\tvalidation_0-auc:0.77660\tvalidation_1-auc:0.77705\n",
      "[28]\tvalidation_0-auc:0.77981\tvalidation_1-auc:0.77731\n",
      "[29]\tvalidation_0-auc:0.78043\tvalidation_1-auc:0.77706\n",
      "[30]\tvalidation_0-auc:0.78055\tvalidation_1-auc:0.77744\n",
      "[31]\tvalidation_0-auc:0.78041\tvalidation_1-auc:0.77712\n",
      "[32]\tvalidation_0-auc:0.79455\tvalidation_1-auc:0.78853\n",
      "[33]\tvalidation_0-auc:0.79402\tvalidation_1-auc:0.78837\n",
      "[34]\tvalidation_0-auc:0.79388\tvalidation_1-auc:0.78835\n",
      "[35]\tvalidation_0-auc:0.79388\tvalidation_1-auc:0.78835\n",
      "[36]\tvalidation_0-auc:0.79351\tvalidation_1-auc:0.79040\n",
      "[37]\tvalidation_0-auc:0.79314\tvalidation_1-auc:0.79042\n",
      "[38]\tvalidation_0-auc:0.79311\tvalidation_1-auc:0.79044\n",
      "[39]\tvalidation_0-auc:0.79294\tvalidation_1-auc:0.79072\n",
      "[40]\tvalidation_0-auc:0.79294\tvalidation_1-auc:0.79072\n",
      "[41]\tvalidation_0-auc:0.79273\tvalidation_1-auc:0.79064\n",
      "[42]\tvalidation_0-auc:0.79281\tvalidation_1-auc:0.79009\n",
      "[43]\tvalidation_0-auc:0.79279\tvalidation_1-auc:0.79007\n",
      "[44]\tvalidation_0-auc:0.79425\tvalidation_1-auc:0.79038\n",
      "[45]\tvalidation_0-auc:0.79425\tvalidation_1-auc:0.79038\n",
      "[46]\tvalidation_0-auc:0.79474\tvalidation_1-auc:0.79029\n",
      "[47]\tvalidation_0-auc:0.79609\tvalidation_1-auc:0.79019\n",
      "[48]\tvalidation_0-auc:0.79586\tvalidation_1-auc:0.79059\n",
      "[49]\tvalidation_0-auc:0.79707\tvalidation_1-auc:0.79069\n",
      "[50]\tvalidation_0-auc:0.79695\tvalidation_1-auc:0.79075\n",
      "[51]\tvalidation_0-auc:0.79688\tvalidation_1-auc:0.79087\n",
      "[52]\tvalidation_0-auc:0.79680\tvalidation_1-auc:0.79061\n",
      "[53]\tvalidation_0-auc:0.79669\tvalidation_1-auc:0.79052\n",
      "[54]\tvalidation_0-auc:0.79595\tvalidation_1-auc:0.78888\n",
      "[55]\tvalidation_0-auc:0.79579\tvalidation_1-auc:0.78859\n",
      "[56]\tvalidation_0-auc:0.79559\tvalidation_1-auc:0.78848\n",
      "[57]\tvalidation_0-auc:0.79551\tvalidation_1-auc:0.78825\n",
      "[58]\tvalidation_0-auc:0.79530\tvalidation_1-auc:0.78807\n",
      "[59]\tvalidation_0-auc:0.79646\tvalidation_1-auc:0.78766\n",
      "[60]\tvalidation_0-auc:0.79710\tvalidation_1-auc:0.78776\n",
      "[61]\tvalidation_0-auc:0.79766\tvalidation_1-auc:0.78768\n",
      "[62]\tvalidation_0-auc:0.79771\tvalidation_1-auc:0.78760\n",
      "[63]\tvalidation_0-auc:0.79762\tvalidation_1-auc:0.78757\n",
      "[64]\tvalidation_0-auc:0.79811\tvalidation_1-auc:0.78758\n",
      "[65]\tvalidation_0-auc:0.79802\tvalidation_1-auc:0.78753\n",
      "[66]\tvalidation_0-auc:0.79802\tvalidation_1-auc:0.78738\n",
      "[67]\tvalidation_0-auc:0.79582\tvalidation_1-auc:0.78891\n",
      "[68]\tvalidation_0-auc:0.79584\tvalidation_1-auc:0.78861\n",
      "[69]\tvalidation_0-auc:0.79638\tvalidation_1-auc:0.78819\n",
      "[70]\tvalidation_0-auc:0.79643\tvalidation_1-auc:0.78810\n",
      "[71]\tvalidation_0-auc:0.79672\tvalidation_1-auc:0.78842\n",
      "[72]\tvalidation_0-auc:0.79672\tvalidation_1-auc:0.78842\n",
      "[73]\tvalidation_0-auc:0.79686\tvalidation_1-auc:0.78809\n",
      "[74]\tvalidation_0-auc:0.79666\tvalidation_1-auc:0.78823\n",
      "[75]\tvalidation_0-auc:0.79658\tvalidation_1-auc:0.78804\n"
     ]
    },
    {
     "name": "stderr",
     "output_type": "stream",
     "text": [
      "C:\\Users\\Nader\\anaconda3\\lib\\site-packages\\xgboost\\sklearn.py:1146: UserWarning: The use of label encoder in XGBClassifier is deprecated and will be removed in a future release. To remove this warning, do the following: 1) Pass option use_label_encoder=False when constructing XGBClassifier object; and 2) Encode your labels (y) as integers starting with 0, i.e. 0, 1, 2, ..., [num_class - 1].\n",
      "  warnings.warn(label_encoder_deprecation_msg, UserWarning)\n"
     ]
    },
    {
     "name": "stdout",
     "output_type": "stream",
     "text": [
      "[76]\tvalidation_0-auc:0.79650\tvalidation_1-auc:0.78798\n",
      "[77]\tvalidation_0-auc:0.79672\tvalidation_1-auc:0.78726\n",
      "[78]\tvalidation_0-auc:0.79672\tvalidation_1-auc:0.78726\n",
      "[79]\tvalidation_0-auc:0.79665\tvalidation_1-auc:0.78732\n",
      "[80]\tvalidation_0-auc:0.79659\tvalidation_1-auc:0.78727\n",
      "[81]\tvalidation_0-auc:0.79652\tvalidation_1-auc:0.78723\n",
      "[82]\tvalidation_0-auc:0.79634\tvalidation_1-auc:0.78749\n",
      "[83]\tvalidation_0-auc:0.80204\tvalidation_1-auc:0.78541\n",
      "[84]\tvalidation_0-auc:0.80247\tvalidation_1-auc:0.78539\n",
      "[85]\tvalidation_0-auc:0.80247\tvalidation_1-auc:0.78539\n",
      "[86]\tvalidation_0-auc:0.80263\tvalidation_1-auc:0.78511\n",
      "[87]\tvalidation_0-auc:0.80296\tvalidation_1-auc:0.78528\n",
      "[88]\tvalidation_0-auc:0.80151\tvalidation_1-auc:0.78500\n",
      "[89]\tvalidation_0-auc:0.80140\tvalidation_1-auc:0.78531\n",
      "[90]\tvalidation_0-auc:0.80140\tvalidation_1-auc:0.78531\n",
      "[91]\tvalidation_0-auc:0.80118\tvalidation_1-auc:0.78518\n",
      "[92]\tvalidation_0-auc:0.80897\tvalidation_1-auc:0.79397\n",
      "[93]\tvalidation_0-auc:0.80903\tvalidation_1-auc:0.79405\n",
      "[94]\tvalidation_0-auc:0.80902\tvalidation_1-auc:0.79405\n",
      "[95]\tvalidation_0-auc:0.80895\tvalidation_1-auc:0.79448\n",
      "[96]\tvalidation_0-auc:0.80913\tvalidation_1-auc:0.79418\n",
      "[97]\tvalidation_0-auc:0.80910\tvalidation_1-auc:0.79399\n",
      "[98]\tvalidation_0-auc:0.80906\tvalidation_1-auc:0.79355\n",
      "[99]\tvalidation_0-auc:0.81202\tvalidation_1-auc:0.79352\n",
      "[100]\tvalidation_0-auc:0.81197\tvalidation_1-auc:0.79352\n",
      "[101]\tvalidation_0-auc:0.81192\tvalidation_1-auc:0.79345\n",
      "[102]\tvalidation_0-auc:0.81186\tvalidation_1-auc:0.79366\n",
      "[103]\tvalidation_0-auc:0.81189\tvalidation_1-auc:0.79381\n",
      "[104]\tvalidation_0-auc:0.81178\tvalidation_1-auc:0.79375\n",
      "[105]\tvalidation_0-auc:0.81196\tvalidation_1-auc:0.79326\n",
      "[106]\tvalidation_0-auc:0.81180\tvalidation_1-auc:0.79323\n",
      "[107]\tvalidation_0-auc:0.81224\tvalidation_1-auc:0.79332\n",
      "[108]\tvalidation_0-auc:0.81159\tvalidation_1-auc:0.79275\n",
      "[109]\tvalidation_0-auc:0.81148\tvalidation_1-auc:0.79259\n",
      "[110]\tvalidation_0-auc:0.81221\tvalidation_1-auc:0.79049\n",
      "[111]\tvalidation_0-auc:0.81256\tvalidation_1-auc:0.79094\n",
      "[112]\tvalidation_0-auc:0.81267\tvalidation_1-auc:0.79115\n",
      "[113]\tvalidation_0-auc:0.81267\tvalidation_1-auc:0.79115\n",
      "[114]\tvalidation_0-auc:0.81268\tvalidation_1-auc:0.79109\n",
      "[115]\tvalidation_0-auc:0.81256\tvalidation_1-auc:0.79127\n",
      "[116]\tvalidation_0-auc:0.81269\tvalidation_1-auc:0.79103\n",
      "[117]\tvalidation_0-auc:0.81269\tvalidation_1-auc:0.79103\n",
      "[118]\tvalidation_0-auc:0.81275\tvalidation_1-auc:0.79080\n",
      "[119]\tvalidation_0-auc:0.81285\tvalidation_1-auc:0.79077\n",
      "[120]\tvalidation_0-auc:0.81285\tvalidation_1-auc:0.79077\n",
      "[121]\tvalidation_0-auc:0.81280\tvalidation_1-auc:0.79075\n",
      "[122]\tvalidation_0-auc:0.81270\tvalidation_1-auc:0.79120\n",
      "[123]\tvalidation_0-auc:0.81270\tvalidation_1-auc:0.79120\n",
      "[124]\tvalidation_0-auc:0.81262\tvalidation_1-auc:0.79113\n",
      "[125]\tvalidation_0-auc:0.81257\tvalidation_1-auc:0.79057\n",
      "[126]\tvalidation_0-auc:0.81244\tvalidation_1-auc:0.79041\n",
      "[127]\tvalidation_0-auc:0.81244\tvalidation_1-auc:0.79041\n",
      "[128]\tvalidation_0-auc:0.81160\tvalidation_1-auc:0.78981\n",
      "[129]\tvalidation_0-auc:0.81154\tvalidation_1-auc:0.78969\n",
      "[130]\tvalidation_0-auc:0.81142\tvalidation_1-auc:0.78968\n",
      "[131]\tvalidation_0-auc:0.81159\tvalidation_1-auc:0.78976\n",
      "[132]\tvalidation_0-auc:0.81173\tvalidation_1-auc:0.78983\n",
      "[133]\tvalidation_0-auc:0.81166\tvalidation_1-auc:0.78988\n",
      "[134]\tvalidation_0-auc:0.81200\tvalidation_1-auc:0.78996\n",
      "[135]\tvalidation_0-auc:0.81207\tvalidation_1-auc:0.79014\n",
      "[136]\tvalidation_0-auc:0.81210\tvalidation_1-auc:0.78996\n",
      "[137]\tvalidation_0-auc:0.81200\tvalidation_1-auc:0.78999\n",
      "[138]\tvalidation_0-auc:0.81197\tvalidation_1-auc:0.79049\n",
      "[139]\tvalidation_0-auc:0.81124\tvalidation_1-auc:0.78913\n",
      "[140]\tvalidation_0-auc:0.81137\tvalidation_1-auc:0.78911\n",
      "[141]\tvalidation_0-auc:0.81099\tvalidation_1-auc:0.78797\n",
      "[142]\tvalidation_0-auc:0.81093\tvalidation_1-auc:0.78795\n",
      "[143]\tvalidation_0-auc:0.81164\tvalidation_1-auc:0.79066\n",
      "[144]\tvalidation_0-auc:0.81166\tvalidation_1-auc:0.79081\n",
      "[145]\tvalidation_0-auc:0.81156\tvalidation_1-auc:0.79082\n"
     ]
    },
    {
     "data": {
      "text/plain": [
       "XGBClassifier(base_score=0.5, booster='gbtree', colsample_bylevel=1,\n",
       "              colsample_bynode=1, colsample_bytree=0.8, gamma=0, gpu_id=-1,\n",
       "              importance_type='gain', interaction_constraints='',\n",
       "              learning_rate=0.001, max_delta_step=0, max_depth=7,\n",
       "              min_child_weight=1, missing=nan, monotone_constraints='()',\n",
       "              n_estimators=1000, n_jobs=4, nthread=4, num_parallel_tree=1,\n",
       "              random_state=42, reg_alpha=0, reg_lambda=1, scale_pos_weight=1,\n",
       "              seed=42, silent=True, subsample=0.8, tree_method='exact',\n",
       "              validate_parameters=1, verbosity=None)"
      ]
     },
     "execution_count": 77,
     "metadata": {},
     "output_type": "execute_result"
    }
   ],
   "source": [
    "import xgboost as xgb\n",
    "from xgboost.sklearn import XGBClassifier\n",
    "\n",
    "from sklearn.model_selection import GridSearchCV\n",
    "import matplotlib.pylab as plt\n",
    "%matplotlib inline\n",
    "from matplotlib.pylab import rcParams\n",
    "from sklearn.metrics import accuracy_score\n",
    "\n",
    "eval_set = [(X_train, y_train), (X_test, y_test)]\n",
    "model = xgb.XGBClassifier(learning_rate = 0.001, n_estimators=1000,\n",
    " max_depth=7,\n",
    " min_child_weight=1,\n",
    " gamma=0,\n",
    " subsample=0.8,\n",
    " colsample_bytree=0.8,\n",
    " objective= 'binary:logistic',seed = 42,nthread=4,silent = True)\n",
    "model.fit(X_train, y_train, eval_set=eval_set ,eval_metric=\"auc\", verbose=True, early_stopping_rounds=50)"
   ]
  },
  {
   "cell_type": "code",
   "execution_count": 78,
   "metadata": {},
   "outputs": [
    {
     "name": "stdout",
     "output_type": "stream",
     "text": [
      "XGBClassifier(base_score=0.5, booster='gbtree', colsample_bylevel=1,\n",
      "              colsample_bynode=1, colsample_bytree=0.8, gamma=0, gpu_id=-1,\n",
      "              importance_type='gain', interaction_constraints='',\n",
      "              learning_rate=0.001, max_delta_step=0, max_depth=7,\n",
      "              min_child_weight=1, missing=nan, monotone_constraints='()',\n",
      "              n_estimators=1000, n_jobs=4, nthread=4, num_parallel_tree=1,\n",
      "              random_state=42, reg_alpha=0, reg_lambda=1, scale_pos_weight=1,\n",
      "              seed=42, silent=True, subsample=0.8, tree_method='exact',\n",
      "              validate_parameters=1, verbosity=None)\n"
     ]
    }
   ],
   "source": [
    "print(model)"
   ]
  },
  {
   "cell_type": "code",
   "execution_count": 79,
   "metadata": {},
   "outputs": [
    {
     "name": "stderr",
     "output_type": "stream",
     "text": [
      "C:\\Users\\Nader\\anaconda3\\lib\\site-packages\\xgboost\\data.py:112: UserWarning: Use subset (sliced data) of np.ndarray is not recommended because it will generate extra copies and increase memory consumption\n",
      "  warnings.warn(\n"
     ]
    }
   ],
   "source": [
    "XGBpred = model.predict(X_test)\n",
    "predictions = [round(value) for value in XGBpred]"
   ]
  },
  {
   "cell_type": "code",
   "execution_count": 80,
   "metadata": {},
   "outputs": [
    {
     "name": "stdout",
     "output_type": "stream",
     "text": [
      "Accuracy: 95.60%\n"
     ]
    }
   ],
   "source": [
    "accuracy = accuracy_score(y_test, XGBpred)\n",
    "print(\"Accuracy: %.2f%%\" % (accuracy * 100.0))"
   ]
  },
  {
   "cell_type": "code",
   "execution_count": 81,
   "metadata": {},
   "outputs": [
    {
     "data": {
      "text/plain": [
       "0.5"
      ]
     },
     "execution_count": 81,
     "metadata": {},
     "output_type": "execute_result"
    }
   ],
   "source": [
    "roc3 = roc_auc_score(y_test, XGBpred)\n",
    "roc3"
   ]
  },
  {
   "cell_type": "markdown",
   "metadata": {},
   "source": [
    "# FEATURE IMPORTANCE"
   ]
  },
  {
   "cell_type": "code",
   "execution_count": 82,
   "metadata": {},
   "outputs": [],
   "source": [
    "from sklearn.datasets import make_regression\n",
    "from sklearn.model_selection import train_test_split\n",
    "from sklearn.feature_selection import SelectKBest\n",
    "from sklearn.feature_selection import f_regression\n",
    "from matplotlib import pyplot"
   ]
  },
  {
   "cell_type": "code",
   "execution_count": 83,
   "metadata": {},
   "outputs": [
    {
     "name": "stdout",
     "output_type": "stream",
     "text": [
      "Feature 0: 3.676842\n",
      "Feature 1: 16.010381\n",
      "Feature 2: 0.466306\n",
      "Feature 3: 3.839247\n",
      "Feature 4: 15.608868\n",
      "Feature 5: 80.446718\n",
      "Feature 6: 1.759460\n",
      "Feature 7: 4.330552\n",
      "Feature 8: 15.450695\n",
      "Feature 9: 16.784105\n",
      "Feature 10: 2.235387\n",
      "Feature 11: 0.757307\n"
     ]
    }
   ],
   "source": [
    "def select_features(X_train, y_train, X_test):\n",
    "\n",
    "\tfs = SelectKBest(score_func=f_regression, k='all')\n",
    "\n",
    "\tfs.fit(X_train, y_train)\n",
    "\n",
    "\tX_train_fs = fs.transform(X_train)\n",
    "\n",
    "\tX_test_fs = fs.transform(X_test)\n",
    "\treturn X_train_fs, X_test_fs, fs\n",
    " \n",
    "\n",
    "X_train_fs, X_test_fs, fs = select_features(X_train, y_train, X_test)\n",
    "\n",
    "for i in range(len(fs.scores_)):\n",
    "\tprint('Feature %d: %f' % (i, fs.scores_[i]))"
   ]
  },
  {
   "cell_type": "code",
   "execution_count": 84,
   "metadata": {},
   "outputs": [
    {
     "name": "stdout",
     "output_type": "stream",
     "text": [
      "Index(['Block', 'Heat', 'LatDif', 'LonDif', 'Month_7', 'Month_8',\n",
      "       'PrecipTotal', 'ResultDir', 'ResultSpeed', 'Species_CULEX PIPIENS',\n",
      "       'Species_CULEX PIPIENS/RESTUANS', 'Weekday'],\n",
      "      dtype='object')\n"
     ]
    }
   ],
   "source": [
    "print(features)"
   ]
  },
  {
   "cell_type": "markdown",
   "metadata": {},
   "source": [
    "# SHAP ANALYSIS"
   ]
  },
  {
   "cell_type": "code",
   "execution_count": 85,
   "metadata": {},
   "outputs": [],
   "source": [
    "import shap"
   ]
  },
  {
   "cell_type": "code",
   "execution_count": 86,
   "metadata": {},
   "outputs": [
    {
     "name": "stderr",
     "output_type": "stream",
     "text": [
      "ntree_limit is deprecated, use `iteration_range` or model slicing instead.\n"
     ]
    },
    {
     "data": {
      "image/png": "[encoded data removed]",
      "text/plain": [
       "<Figure size 576x453.6 with 1 Axes>"
      ]
     },
     "metadata": {
      "needs_background": "light"
     },
     "output_type": "display_data"
    }
   ],
   "source": [
    "shap_values = shap.TreeExplainer(model).shap_values(X_train)\n",
    "#shap_values = shap.TreeExplainer(y_pred).shap_values(X_train)\n",
    "shap.summary_plot(shap_values, X_train, plot_type='bar')\n",
    "# Month 8 is August which seems to have the most impact on a positive diagnosis of WNV"
   ]
  },
  {
   "cell_type": "code",
   "execution_count": 87,
   "metadata": {},
   "outputs": [
    {
     "data": {
      "image/png": "[encoded data removed]",
      "text/plain": [
       "<Figure size 576x453.6 with 2 Axes>"
      ]
     },
     "metadata": {
      "needs_background": "light"
     },
     "output_type": "display_data"
    }
   ],
   "source": [
    "shap_values = shap.TreeExplainer(model).shap_values(X_train)\n",
    "shap.summary_plot(shap_values, X_train)"
   ]
  },
  {
   "cell_type": "code",
   "execution_count": 88,
   "metadata": {},
   "outputs": [
    {
     "data": {
      "image/png": "[encoded data removed]",
      "text/plain": [
       "<Figure size 540x360 with 2 Axes>"
      ]
     },
     "metadata": {
      "needs_background": "light"
     },
     "output_type": "display_data"
    }
   ],
   "source": [
    "shap.dependence_plot('Month_8', shap_values, X_train)"
   ]
  },
  {
   "cell_type": "code",
   "execution_count": 89,
   "metadata": {},
   "outputs": [
    {
     "name": "stderr",
     "output_type": "stream",
     "text": [
      "Passing parameters norm and vmin/vmax simultaneously is deprecated since 3.3 and will become an error two minor releases later. Please pass vmin/vmax directly to the norm when creating it.\n"
     ]
    },
    {
     "data": {
      "image/png": "[encoded data removed]",
      "text/plain": [
       "<Figure size 540x360 with 2 Axes>"
      ]
     },
     "metadata": {
      "needs_background": "light"
     },
     "output_type": "display_data"
    }
   ],
   "source": [
    "shap.dependence_plot('Species_CULEX PIPIENS', shap_values, X_train)"
   ]
  },
  {
   "cell_type": "code",
   "execution_count": 90,
   "metadata": {},
   "outputs": [
    {
     "data": {
      "image/png": "[encoded data removed]",
      "text/plain": [
       "<Figure size 540x360 with 2 Axes>"
      ]
     },
     "metadata": {
      "needs_background": "light"
     },
     "output_type": "display_data"
    }
   ],
   "source": [
    "shap.dependence_plot('Month_8', shap_values, X_train)"
   ]
  }
 ],
 "metadata": {
  "kernelspec": {
   "display_name": "Python 3",
   "language": "python",
   "name": "python3"
  },
  "language_info": {
   "codemirror_mode": {
    "name": "ipython",
    "version": 3
   },
   "file_extension": ".py",
   "mimetype": "text/x-python",
   "name": "python",
   "nbconvert_exporter": "python",
   "pygments_lexer": "ipython3",
   "version": "3.8.5"
  }
 },
 "nbformat": 4,
 "nbformat_minor": 4
}
